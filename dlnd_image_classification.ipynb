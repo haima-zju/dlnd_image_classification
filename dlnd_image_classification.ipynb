{
 "cells": [
  {
   "cell_type": "markdown",
   "metadata": {
    "collapsed": true,
    "deletable": true,
    "editable": true
   },
   "source": [
    "# Image Classification\n",
    "In this project, you'll classify images from the [CIFAR-10 dataset](https://www.cs.toronto.edu/~kriz/cifar.html).  The dataset consists of airplanes, dogs, cats, and other objects. You'll preprocess the images, then train a convolutional neural network on all the samples. The images need to be normalized and the labels need to be one-hot encoded.  You'll get to apply what you learned and build a convolutional, max pooling, dropout, and fully connected layers.  At the end, you'll get to see your neural network's predictions on the sample images.\n",
    "## Get the Data\n",
    "Run the following cell to download the [CIFAR-10 dataset for python](https://www.cs.toronto.edu/~kriz/cifar-10-python.tar.gz)."
   ]
  },
  {
   "cell_type": "code",
   "execution_count": 2,
   "metadata": {
    "collapsed": false,
    "deletable": true,
    "editable": true
   },
   "outputs": [
    {
     "name": "stdout",
     "output_type": "stream",
     "text": [
      "All files found!\n"
     ]
    }
   ],
   "source": [
    "\"\"\"\n",
    "DON'T MODIFY ANYTHING IN THIS CELL THAT IS BELOW THIS LINE\n",
    "\"\"\"\n",
    "from urllib.request import urlretrieve\n",
    "from os.path import isfile, isdir\n",
    "from tqdm import tqdm\n",
    "import problem_unittests as tests\n",
    "import tarfile\n",
    "\n",
    "cifar10_dataset_folder_path = 'cifar-10-batches-py'\n",
    "\n",
    "class DLProgress(tqdm):\n",
    "    last_block = 0\n",
    "\n",
    "    def hook(self, block_num=1, block_size=1, total_size=None):\n",
    "        self.total = total_size\n",
    "        self.update((block_num - self.last_block) * block_size)\n",
    "        self.last_block = block_num\n",
    "\n",
    "if not isfile('cifar-10-python.tar.gz'):\n",
    "    with DLProgress(unit='B', unit_scale=True, miniters=1, desc='CIFAR-10 Dataset') as pbar:\n",
    "        urlretrieve(\n",
    "            'https://www.cs.toronto.edu/~kriz/cifar-10-python.tar.gz',\n",
    "            'cifar-10-python.tar.gz',\n",
    "            pbar.hook)\n",
    "\n",
    "if not isdir(cifar10_dataset_folder_path):\n",
    "    with tarfile.open('cifar-10-python.tar.gz') as tar:\n",
    "        tar.extractall()\n",
    "        tar.close()\n",
    "\n",
    "\n",
    "tests.test_folder_path(cifar10_dataset_folder_path)"
   ]
  },
  {
   "cell_type": "markdown",
   "metadata": {
    "deletable": true,
    "editable": true
   },
   "source": [
    "## Explore the Data\n",
    "The dataset is broken into batches to prevent your machine from running out of memory.  The CIFAR-10 dataset consists of 5 batches, named `data_batch_1`, `data_batch_2`, etc.. Each batch contains the labels and images that are one of the following:\n",
    "* airplane\n",
    "* automobile\n",
    "* bird\n",
    "* cat\n",
    "* deer\n",
    "* dog\n",
    "* frog\n",
    "* horse\n",
    "* ship\n",
    "* truck\n",
    "\n",
    "Understanding a dataset is part of making predictions on the data.  Play around with the code cell below by changing the `batch_id` and `sample_id`. The `batch_id` is the id for a batch (1-5). The `sample_id` is the id for a image and label pair in the batch.\n",
    "\n",
    "Ask yourself \"What are all possible labels?\", \"What is the range of values for the image data?\", \"Are the labels in order or random?\".  Answers to questions like these will help you preprocess the data and end up with better predictions."
   ]
  },
  {
   "cell_type": "code",
   "execution_count": 6,
   "metadata": {
    "collapsed": false,
    "deletable": true,
    "editable": true
   },
   "outputs": [
    {
     "name": "stdout",
     "output_type": "stream",
     "text": [
      "\n",
      "Stats of batch 2:\n",
      "Samples: 10000\n",
      "Label Counts: {0: 984, 1: 1007, 2: 1010, 3: 995, 4: 1010, 5: 988, 6: 1008, 7: 1026, 8: 987, 9: 985}\n",
      "First 20 Labels: [1, 6, 6, 8, 8, 3, 4, 6, 0, 6, 0, 3, 6, 6, 5, 4, 8, 3, 2, 6]\n",
      "\n",
      "Example of Image 11:\n",
      "Image - Min Value: 4 Max Value: 255\n",
      "Image - Shape: (32, 32, 3)\n",
      "Label - Label Id: 3 Name: cat\n"
     ]
    },
    {
     "data": {
      "image/png": "[encoded data removed]",
      "text/plain": [
       "<matplotlib.figure.Figure at 0x7f1aa05fe898>"
      ]
     },
     "metadata": {
      "image/png": {
       "height": 250,
       "width": 253
      }
     },
     "output_type": "display_data"
    }
   ],
   "source": [
    "%matplotlib inline\n",
    "%config InlineBackend.figure_format = 'retina'\n",
    "\n",
    "import helper\n",
    "import numpy as np\n",
    "\n",
    "# Explore the dataset\n",
    "batch_id = 2\n",
    "sample_id = 11\n",
    "helper.display_stats(cifar10_dataset_folder_path, batch_id, sample_id)"
   ]
  },
  {
   "cell_type": "markdown",
   "metadata": {
    "deletable": true,
    "editable": true
   },
   "source": [
    "## Implement Preprocess Functions\n",
    "### Normalize\n",
    "In the cell below, implement the `normalize` function to take in image data, `x`, and return it as a normalized Numpy array. The values should be in the range of 0 to 1, inclusive.  The return object should be the same shape as `x`."
   ]
  },
  {
   "cell_type": "code",
   "execution_count": 7,
   "metadata": {
    "collapsed": false,
    "deletable": true,
    "editable": true
   },
   "outputs": [
    {
     "name": "stdout",
     "output_type": "stream",
     "text": [
      "Tests Passed\n"
     ]
    }
   ],
   "source": [
    "def normalize(x):\n",
    "    \"\"\"\n",
    "    Normalize a list of sample image data in the range of 0 to 1\n",
    "    : x: List of image data.  The image shape is (32, 32, 3)\n",
    "    : return: Numpy array of normalize data\n",
    "    \"\"\"\n",
    "    return np.divide(x, 256)\n",
    "\n",
    "\n",
    "\"\"\"\n",
    "DON'T MODIFY ANYTHING IN THIS CELL THAT IS BELOW THIS LINE\n",
    "\"\"\"\n",
    "tests.test_normalize(normalize)"
   ]
  },
  {
   "cell_type": "markdown",
   "metadata": {
    "deletable": true,
    "editable": true
   },
   "source": [
    "### One-hot encode\n",
    "Just like the previous code cell, you'll be implementing a function for preprocessing.  This time, you'll implement the `one_hot_encode` function. The input, `x`, are a list of labels.  Implement the function to return the list of labels as One-Hot encoded Numpy array.  The possible values for labels are 0 to 9. The one-hot encoding function should return the same encoding for each value between each call to `one_hot_encode`.  Make sure to save the map of encodings outside the function.\n",
    "\n",
    "Hint: Don't reinvent the wheel."
   ]
  },
  {
   "cell_type": "code",
   "execution_count": 18,
   "metadata": {
    "collapsed": false,
    "deletable": true,
    "editable": true
   },
   "outputs": [
    {
     "name": "stdout",
     "output_type": "stream",
     "text": [
      "Tests Passed\n"
     ]
    }
   ],
   "source": [
    "def one_hot_encode(x):\n",
    "    \"\"\"\n",
    "    One hot encode a list of sample labels. Return a one-hot encoded vector for each label.\n",
    "    : x: List of sample Labels\n",
    "    : return: Numpy array of one-hot encoded labels\n",
    "    \"\"\"\n",
    "    #print(x)\n",
    "    n = len(x)\n",
    "    one_hot = np.zeros((n, 10))\n",
    "    one_hot[np.arange(n), x] = 1\n",
    "    return one_hot\n",
    "\n",
    "\n",
    "\"\"\"\n",
    "DON'T MODIFY ANYTHING IN THIS CELL THAT IS BELOW THIS LINE\n",
    "\"\"\"\n",
    "tests.test_one_hot_encode(one_hot_encode)"
   ]
  },
  {
   "cell_type": "markdown",
   "metadata": {
    "deletable": true,
    "editable": true
   },
   "source": [
    "### Randomize Data\n",
    "As you saw from exploring the data above, the order of the samples are randomized.  It doesn't hurt to randomize it again, but you don't need to for this dataset."
   ]
  },
  {
   "cell_type": "markdown",
   "metadata": {
    "deletable": true,
    "editable": true
   },
   "source": [
    "## Preprocess all the data and save it\n",
    "Running the code cell below will preprocess all the CIFAR-10 data and save it to file. The code below also uses 10% of the training data for validation."
   ]
  },
  {
   "cell_type": "code",
   "execution_count": 54,
   "metadata": {
    "collapsed": false,
    "deletable": true,
    "editable": true
   },
   "outputs": [
    {
     "ename": "NameError",
     "evalue": "name 'cifar10_dataset_folder_path' is not defined",
     "output_type": "error",
     "traceback": [
      "\u001b[0;31m---------------------------------------------------------------------------\u001b[0m",
      "\u001b[0;31mNameError\u001b[0m                                 Traceback (most recent call last)",
      "\u001b[0;32m<ipython-input-54-2e43b03e04f3>\u001b[0m in \u001b[0;36m<module>\u001b[0;34m()\u001b[0m\n\u001b[1;32m      3\u001b[0m \"\"\"\n\u001b[1;32m      4\u001b[0m \u001b[0;31m# Preprocess Training, Validation, and Testing Data\u001b[0m\u001b[0;34m\u001b[0m\u001b[0;34m\u001b[0m\u001b[0m\n\u001b[0;32m----> 5\u001b[0;31m \u001b[0mhelper\u001b[0m\u001b[0;34m.\u001b[0m\u001b[0mpreprocess_and_save_data\u001b[0m\u001b[0;34m(\u001b[0m\u001b[0mcifar10_dataset_folder_path\u001b[0m\u001b[0;34m,\u001b[0m \u001b[0mnormalize\u001b[0m\u001b[0;34m,\u001b[0m \u001b[0mone_hot_encode\u001b[0m\u001b[0;34m)\u001b[0m\u001b[0;34m\u001b[0m\u001b[0m\n\u001b[0m",
      "\u001b[0;31mNameError\u001b[0m: name 'cifar10_dataset_folder_path' is not defined"
     ]
    }
   ],
   "source": [
    "\"\"\"\n",
    "DON'T MODIFY ANYTHING IN THIS CELL\n",
    "\"\"\"\n",
    "# Preprocess Training, Validation, and Testing Data\n",
    "helper.preprocess_and_save_data(cifar10_dataset_folder_path, normalize, one_hot_encode)"
   ]
  },
  {
   "cell_type": "markdown",
   "metadata": {
    "deletable": true,
    "editable": true
   },
   "source": [
    "# Check Point\n",
    "This is your first checkpoint.  If you ever decide to come back to this notebook or have to restart the notebook, you can start from here.  The preprocessed data has been saved to disk."
   ]
  },
  {
   "cell_type": "code",
   "execution_count": 1,
   "metadata": {
    "collapsed": true,
    "deletable": true,
    "editable": true
   },
   "outputs": [],
   "source": [
    "\"\"\"\n",
    "DON'T MODIFY ANYTHING IN THIS CELL\n",
    "\"\"\"\n",
    "import pickle\n",
    "import problem_unittests as tests\n",
    "import helper\n",
    "\n",
    "# Load the Preprocessed Validation data\n",
    "valid_features, valid_labels = pickle.load(open('preprocess_validation.p', mode='rb'))"
   ]
  },
  {
   "cell_type": "markdown",
   "metadata": {
    "deletable": true,
    "editable": true
   },
   "source": [
    "## Build the network\n",
    "For the neural network, you'll build each layer into a function.  Most of the code you've seen has been outside of functions. To test your code more thoroughly, we require that you put each layer in a function.  This allows us to give you better feedback and test for simple mistakes using our unittests before you submit your project.\n",
    "\n",
    ">**Note:** If you're finding it hard to dedicate enough time for this course each week, we've provided a small shortcut to this part of the project. In the next couple of problems, you'll have the option to use classes from the [TensorFlow Layers](https://www.tensorflow.org/api_docs/python/tf/layers) or [TensorFlow Layers (contrib)](https://www.tensorflow.org/api_guides/python/contrib.layers) packages to build each layer, except the layers you build in the \"Convolutional and Max Pooling Layer\" section.  TF Layers is similar to Keras's and TFLearn's abstraction to layers, so it's easy to pickup.\n",
    "\n",
    ">However, if you would like to get the most out of this course, try to solve all the problems _without_ using anything from the TF Layers packages. You **can** still use classes from other packages that happen to have the same name as ones you find in TF Layers! For example, instead of using the TF Layers version of the `conv2d` class, [tf.layers.conv2d](https://www.tensorflow.org/api_docs/python/tf/layers/conv2d), you would want to use the TF Neural Network version of `conv2d`, [tf.nn.conv2d](https://www.tensorflow.org/api_docs/python/tf/nn/conv2d). \n",
    "\n",
    "Let's begin!\n",
    "\n",
    "### Input\n",
    "The neural network needs to read the image data, one-hot encoded labels, and dropout keep probability. Implement the following functions\n",
    "* Implement `neural_net_image_input`\n",
    " * Return a [TF Placeholder](https://www.tensorflow.org/api_docs/python/tf/placeholder)\n",
    " * Set the shape using `image_shape` with batch size set to `None`.\n",
    " * Name the TensorFlow placeholder \"x\" using the TensorFlow `name` parameter in the [TF Placeholder](https://www.tensorflow.org/api_docs/python/tf/placeholder).\n",
    "* Implement `neural_net_label_input`\n",
    " * Return a [TF Placeholder](https://www.tensorflow.org/api_docs/python/tf/placeholder)\n",
    " * Set the shape using `n_classes` with batch size set to `None`.\n",
    " * Name the TensorFlow placeholder \"y\" using the TensorFlow `name` parameter in the [TF Placeholder](https://www.tensorflow.org/api_docs/python/tf/placeholder).\n",
    "* Implement `neural_net_keep_prob_input`\n",
    " * Return a [TF Placeholder](https://www.tensorflow.org/api_docs/python/tf/placeholder) for dropout keep probability.\n",
    " * Name the TensorFlow placeholder \"keep_prob\" using the TensorFlow `name` parameter in the [TF Placeholder](https://www.tensorflow.org/api_docs/python/tf/placeholder).\n",
    "\n",
    "These names will be used at the end of the project to load your saved model.\n",
    "\n",
    "Note: `None` for shapes in TensorFlow allow for a dynamic size."
   ]
  },
  {
   "cell_type": "code",
   "execution_count": 13,
   "metadata": {
    "collapsed": false,
    "deletable": true,
    "editable": true
   },
   "outputs": [
    {
     "name": "stdout",
     "output_type": "stream",
     "text": [
      "Image Input Tests Passed.\n",
      "Label Input Tests Passed.\n",
      "Keep Prob Tests Passed.\n"
     ]
    }
   ],
   "source": [
    "import tensorflow as tf\n",
    "\n",
    "def neural_net_image_input(image_shape):\n",
    "    \"\"\"\n",
    "    Return a Tensor for a bach of image input\n",
    "    : image_shape: Shape of the images\n",
    "    : return: Tensor for image input.\n",
    "    \"\"\"\n",
    "    shape = list(image_shape)\n",
    "    shape.insert(0, None)\n",
    "    return tf.placeholder(tf.float32, shape, name = 'x')\n",
    "\n",
    "\n",
    "def neural_net_label_input(n_classes):\n",
    "    \"\"\"\n",
    "    Return a Tensor for a batch of label input\n",
    "    : n_classes: Number of classes\n",
    "    : return: Tensor for label input.\n",
    "    \"\"\"\n",
    "    return tf.placeholder(tf.float32, [None, n_classes], name = 'y')\n",
    "\n",
    "\n",
    "def neural_net_keep_prob_input():\n",
    "    \"\"\"\n",
    "    Return a Tensor for keep probability\n",
    "    : return: Tensor for keep probability.\n",
    "    \"\"\"\n",
    "    # TODO: Implement Function\n",
    "    return tf.placeholder(tf.float32, name = 'keep_prob')\n",
    "\n",
    "\n",
    "\"\"\"\n",
    "DON'T MODIFY ANYTHING IN THIS CELL THAT IS BELOW THIS LINE\n",
    "\"\"\"\n",
    "tf.reset_default_graph()\n",
    "tests.test_nn_image_inputs(neural_net_image_input)\n",
    "tests.test_nn_label_inputs(neural_net_label_input)\n",
    "tests.test_nn_keep_prob_inputs(neural_net_keep_prob_input)"
   ]
  },
  {
   "cell_type": "markdown",
   "metadata": {
    "deletable": true,
    "editable": true
   },
   "source": [
    "### Convolution and Max Pooling Layer\n",
    "Convolution layers have a lot of success with images. For this code cell, you should implement the function `conv2d_maxpool` to apply convolution then max pooling:\n",
    "* Create the weight and bias using `conv_ksize`, `conv_num_outputs` and the shape of `x_tensor`.\n",
    "* Apply a convolution to `x_tensor` using weight and `conv_strides`.\n",
    " * We recommend you use same padding, but you're welcome to use any padding.\n",
    "* Add bias\n",
    "* Add a nonlinear activation to the convolution.\n",
    "* Apply Max Pooling using `pool_ksize` and `pool_strides`.\n",
    " * We recommend you use same padding, but you're welcome to use any padding.\n",
    "\n",
    "**Note:** You **can't** use [TensorFlow Layers](https://www.tensorflow.org/api_docs/python/tf/layers) or [TensorFlow Layers (contrib)](https://www.tensorflow.org/api_guides/python/contrib.layers) for **this** layer, but you can still use TensorFlow's [Neural Network](https://www.tensorflow.org/api_docs/python/tf/nn) package. You may still use the shortcut option for all the **other** layers."
   ]
  },
  {
   "cell_type": "code",
   "execution_count": 14,
   "metadata": {
    "collapsed": false,
    "deletable": true,
    "editable": true
   },
   "outputs": [
    {
     "name": "stdout",
     "output_type": "stream",
     "text": [
      "Tests Passed\n"
     ]
    }
   ],
   "source": [
    "def conv2d_maxpool(x_tensor, conv_num_outputs, conv_ksize, conv_strides, pool_ksize, pool_strides):\n",
    "    \"\"\"\n",
    "    Apply convolution then max pooling to x_tensor\n",
    "    :param x_tensor: TensorFlow Tensor\n",
    "    :param conv_num_outputs: Number of outputs for the convolutional layer\n",
    "    :param conv_ksize: kernal size 2-D Tuple for the convolutional layer\n",
    "    :param conv_strides: Stride 2-D Tuple for convolution\n",
    "    :param pool_ksize: kernal size 2-D Tuple for pool\n",
    "    :param pool_strides: Stride 2-D Tuple for pool\n",
    "    : return: A tensor that represents convolution and max pooling of x_tensor\n",
    "    \"\"\"\n",
    "    #print(x_tensor.get_shape())\n",
    "    #print(conv_num_outputs)\n",
    "    #print(conv_ksize)\n",
    "    #print(conv_strides)\n",
    "    #print(pool_ksize)\n",
    "    #print(pool_strides)\n",
    "    F_W = tf.Variable(tf.truncated_normal((conv_ksize[0], conv_ksize[1], x_tensor.get_shape().as_list()[3], conv_num_outputs), stddev = 0.1))\n",
    "    F_b = tf.Variable(tf.zeros(conv_num_outputs))\n",
    "    c_strides = [1, conv_strides[0], conv_strides[1], 1]\n",
    "    padding = 'SAME'\n",
    "    x_tensor = tf.nn.conv2d(x_tensor, F_W, c_strides, padding)+F_b\n",
    "    x_tensor = tf.nn.relu(x_tensor)\n",
    "    p_ksize = [1, pool_ksize[0], pool_ksize[1], 1]\n",
    "    p_strides = [1, pool_strides[0], pool_strides[1], 1]\n",
    "    x_tensor = tf.nn.max_pool(x_tensor, p_ksize, p_strides, padding)\n",
    "    return x_tensor \n",
    "\n",
    "\n",
    "\"\"\"\n",
    "DON'T MODIFY ANYTHING IN THIS CELL THAT IS BELOW THIS LINE\n",
    "\"\"\"\n",
    "tests.test_con_pool(conv2d_maxpool)"
   ]
  },
  {
   "cell_type": "markdown",
   "metadata": {
    "deletable": true,
    "editable": true
   },
   "source": [
    "### Flatten Layer\n",
    "Implement the `flatten` function to change the dimension of `x_tensor` from a 4-D tensor to a 2-D tensor.  The output should be the shape (*Batch Size*, *Flattened Image Size*). Shortcut option: you can use classes from the [TensorFlow Layers](https://www.tensorflow.org/api_docs/python/tf/layers) or [TensorFlow Layers (contrib)](https://www.tensorflow.org/api_guides/python/contrib.layers) packages for this layer. For more of a challenge, only use other TensorFlow packages."
   ]
  },
  {
   "cell_type": "code",
   "execution_count": 15,
   "metadata": {
    "collapsed": false,
    "deletable": true,
    "editable": true
   },
   "outputs": [
    {
     "name": "stdout",
     "output_type": "stream",
     "text": [
      "Tests Passed\n"
     ]
    }
   ],
   "source": [
    "def flatten(x_tensor):\n",
    "    \"\"\"\n",
    "    Flatten x_tensor to (Batch Size, Flattened Image Size)\n",
    "    : x_tensor: A tensor of size (Batch Size, ...), where ... are the image dimensions.\n",
    "    : return: A tensor of size (Batch Size, Flattened Image Size).\n",
    "    \"\"\"\n",
    "    return tf.contrib.layers.flatten(x_tensor)\n",
    "\n",
    "\"\"\"\n",
    "DON'T MODIFY ANYTHING IN THIS CELL THAT IS BELOW THIS LINE\n",
    "\"\"\"\n",
    "tests.test_flatten(flatten)"
   ]
  },
  {
   "cell_type": "markdown",
   "metadata": {
    "deletable": true,
    "editable": true
   },
   "source": [
    "### Fully-Connected Layer\n",
    "Implement the `fully_conn` function to apply a fully connected layer to `x_tensor` with the shape (*Batch Size*, *num_outputs*). Shortcut option: you can use classes from the [TensorFlow Layers](https://www.tensorflow.org/api_docs/python/tf/layers) or [TensorFlow Layers (contrib)](https://www.tensorflow.org/api_guides/python/contrib.layers) packages for this layer. For more of a challenge, only use other TensorFlow packages."
   ]
  },
  {
   "cell_type": "code",
   "execution_count": 16,
   "metadata": {
    "collapsed": false,
    "deletable": true,
    "editable": true
   },
   "outputs": [
    {
     "name": "stdout",
     "output_type": "stream",
     "text": [
      "Tests Passed\n"
     ]
    }
   ],
   "source": [
    "def fully_conn(x_tensor, num_outputs):\n",
    "    \"\"\"\n",
    "    Apply a fully connected layer to x_tensor using weight and bias\n",
    "    : x_tensor: A 2-D tensor where the first dimension is batch size.\n",
    "    : num_outputs: The number of output that the new tensor should be.\n",
    "    : return: A 2-D tensor where the second dimension is num_outputs.\n",
    "    \"\"\"\n",
    "    shape = x_tensor.get_shape().as_list()\n",
    "    full_w = tf.Variable(tf.truncated_normal((shape[1], num_outputs), stddev = 0.1))\n",
    "    full_b = tf.Variable(tf.zeros(num_outputs))\n",
    "    return tf.nn.tanh(tf.matmul(x_tensor, full_w)+full_b)\n",
    "\n",
    "\n",
    "\"\"\"\n",
    "DON'T MODIFY ANYTHING IN THIS CELL THAT IS BELOW THIS LINE\n",
    "\"\"\"\n",
    "tests.test_fully_conn(fully_conn)"
   ]
  },
  {
   "cell_type": "markdown",
   "metadata": {
    "deletable": true,
    "editable": true
   },
   "source": [
    "### Output Layer\n",
    "Implement the `output` function to apply a fully connected layer to `x_tensor` with the shape (*Batch Size*, *num_outputs*). Shortcut option: you can use classes from the [TensorFlow Layers](https://www.tensorflow.org/api_docs/python/tf/layers) or [TensorFlow Layers (contrib)](https://www.tensorflow.org/api_guides/python/contrib.layers) packages for this layer. For more of a challenge, only use other TensorFlow packages.\n",
    "\n",
    "**Note:** Activation, softmax, or cross entropy should **not** be applied to this."
   ]
  },
  {
   "cell_type": "code",
   "execution_count": 17,
   "metadata": {
    "collapsed": false,
    "deletable": true,
    "editable": true
   },
   "outputs": [
    {
     "name": "stdout",
     "output_type": "stream",
     "text": [
      "Tests Passed\n"
     ]
    }
   ],
   "source": [
    "def output(x_tensor, num_outputs):\n",
    "    \"\"\"\n",
    "    Apply a output layer to x_tensor using weight and bias\n",
    "    : x_tensor: A 2-D tensor where the first dimension is batch size.\n",
    "    : num_outputs: The number of output that the new tensor should be.\n",
    "    : return: A 2-D tensor where the second dimension is num_outputs.\n",
    "    \"\"\"\n",
    "    shape = x_tensor.get_shape().as_list()\n",
    "    full_w = tf.Variable(tf.truncated_normal((shape[1], num_outputs), stddev = 0.1))\n",
    "    full_b = tf.Variable(tf.zeros(num_outputs))\n",
    "    return tf.matmul(x_tensor, full_w)+full_b\n",
    "\n",
    "\n",
    "\"\"\"\n",
    "DON'T MODIFY ANYTHING IN THIS CELL THAT IS BELOW THIS LINE\n",
    "\"\"\"\n",
    "tests.test_output(output)"
   ]
  },
  {
   "cell_type": "markdown",
   "metadata": {
    "deletable": true,
    "editable": true
   },
   "source": [
    "### Create Convolutional Model\n",
    "Implement the function `conv_net` to create a convolutional neural network model. The function takes in a batch of images, `x`, and outputs logits.  Use the layers you created above to create this model:\n",
    "\n",
    "* Apply 1, 2, or 3 Convolution and Max Pool layers\n",
    "* Apply a Flatten Layer\n",
    "* Apply 1, 2, or 3 Fully Connected Layers\n",
    "* Apply an Output Layer\n",
    "* Return the output\n",
    "* Apply [TensorFlow's Dropout](https://www.tensorflow.org/api_docs/python/tf/nn/dropout) to one or more layers in the model using `keep_prob`. "
   ]
  },
  {
   "cell_type": "code",
   "execution_count": 18,
   "metadata": {
    "collapsed": false,
    "deletable": true,
    "editable": true
   },
   "outputs": [
    {
     "name": "stdout",
     "output_type": "stream",
     "text": [
      "Neural Network Built!\n"
     ]
    }
   ],
   "source": [
    "def conv_net(x, keep_prob):\n",
    "    \"\"\"\n",
    "    Create a convolutional neural network model\n",
    "    : x: Placeholder tensor that holds image data.\n",
    "    : keep_prob: Placeholder tensor that hold dropout keep probability.\n",
    "    : return: Tensor that represents logits\n",
    "    \"\"\"\n",
    "    # TODO: Apply 1, 2, or 3 Convolution and Max Pool layers\n",
    "    #    Play around with different number of outputs, kernel size and stride\n",
    "    # Function Definition from Above:\n",
    "    # conv2d_maxpool(x_tensor, conv_num_outputs, conv_ksize, conv_strides, pool_ksize, pool_strides)\n",
    "    x_tensor = conv2d_maxpool(x, 16, (2,2), (1,1), (2,2), (2,2))\n",
    "    x_tensor = conv2d_maxpool(x_tensor, 32, (2,2), (1,1), (2,2), (2,2))\n",
    "    #x_tensor = conv2d_maxpool(x_tensor, 128, (2,2), (1,1), (2,2), (2,2))\n",
    "\n",
    "    # TODO: Apply a Flatten Layer\n",
    "    # Function Definition from Above:\n",
    "    x_tensor = flatten(x_tensor)\n",
    "    \n",
    "\n",
    "    # TODO: Apply 1, 2, or 3 Fully Connected Layers\n",
    "    #    Play around with different number of outputs\n",
    "    # Function Definition from Above:\n",
    "    x_tensor = fully_conn(x_tensor, 20)\n",
    "    #x_tensor = fully_conn(x_tensor, 32)\n",
    "    \n",
    "    x_tensor = tf.nn.dropout(x_tensor, keep_prob)\n",
    "    # TODO: Apply an Output Layer\n",
    "    #    Set this to the number of classes\n",
    "    # Function Definition from Above:\n",
    "    x_tensor = output(x_tensor, 10)\n",
    "    \n",
    "    \n",
    "    # TODO: return output\n",
    "    return x_tensor\n",
    "\n",
    "\n",
    "\"\"\"\n",
    "DON'T MODIFY ANYTHING IN THIS CELL THAT IS BELOW THIS LINE\n",
    "\"\"\"\n",
    "\n",
    "##############################\n",
    "## Build the Neural Network ##\n",
    "##############################\n",
    "\n",
    "# Remove previous weights, bias, inputs, etc..\n",
    "tf.reset_default_graph()\n",
    "\n",
    "# Inputs\n",
    "x = neural_net_image_input((32, 32, 3))\n",
    "y = neural_net_label_input(10)\n",
    "keep_prob = neural_net_keep_prob_input()\n",
    "\n",
    "# Model\n",
    "logits = conv_net(x, keep_prob)\n",
    "\n",
    "# Name logits Tensor, so that is can be loaded from disk after training\n",
    "logits = tf.identity(logits, name='logits')\n",
    "\n",
    "# Loss and Optimizer\n",
    "cost = tf.reduce_mean(tf.nn.softmax_cross_entropy_with_logits(logits=logits, labels=y))\n",
    "optimizer = tf.train.AdamOptimizer().minimize(cost)\n",
    "\n",
    "# Accuracy\n",
    "correct_pred = tf.equal(tf.argmax(logits, 1), tf.argmax(y, 1))\n",
    "accuracy = tf.reduce_mean(tf.cast(correct_pred, tf.float32), name='accuracy')\n",
    "\n",
    "tests.test_conv_net(conv_net)"
   ]
  },
  {
   "cell_type": "markdown",
   "metadata": {
    "deletable": true,
    "editable": true
   },
   "source": [
    "## Train the Neural Network\n",
    "### Single Optimization\n",
    "Implement the function `train_neural_network` to do a single optimization.  The optimization should use `optimizer` to optimize in `session` with a `feed_dict` of the following:\n",
    "* `x` for image input\n",
    "* `y` for labels\n",
    "* `keep_prob` for keep probability for dropout\n",
    "\n",
    "This function will be called for each batch, so `tf.global_variables_initializer()` has already been called.\n",
    "\n",
    "Note: Nothing needs to be returned. This function is only optimizing the neural network."
   ]
  },
  {
   "cell_type": "code",
   "execution_count": 19,
   "metadata": {
    "collapsed": false,
    "deletable": true,
    "editable": true
   },
   "outputs": [
    {
     "name": "stdout",
     "output_type": "stream",
     "text": [
      "Tests Passed\n"
     ]
    }
   ],
   "source": [
    "def train_neural_network(session, optimizer, keep_probability, feature_batch, label_batch):\n",
    "    \"\"\"\n",
    "    Optimize the session on a batch of images and labels\n",
    "    : session: Current TensorFlow session\n",
    "    : optimizer: TensorFlow optimizer function\n",
    "    : keep_probability: keep probability\n",
    "    : feature_batch: Batch of Numpy image data\n",
    "    : label_batch: Batch of Numpy label data\n",
    "    \"\"\"\n",
    "    session.run(optimizer, feed_dict = {keep_prob:keep_probability, x:feature_batch, y:label_batch})\n",
    "\n",
    "\"\"\"\n",
    "DON'T MODIFY ANYTHING IN THIS CELL THAT IS BELOW THIS LINE\n",
    "\"\"\"\n",
    "tests.test_train_nn(train_neural_network)"
   ]
  },
  {
   "cell_type": "markdown",
   "metadata": {
    "deletable": true,
    "editable": true
   },
   "source": [
    "### Show Stats\n",
    "Implement the function `print_stats` to print loss and validation accuracy.  Use the global variables `valid_features` and `valid_labels` to calculate validation accuracy.  Use a keep probability of `1.0` to calculate the loss and validation accuracy."
   ]
  },
  {
   "cell_type": "code",
   "execution_count": 20,
   "metadata": {
    "collapsed": false,
    "deletable": true,
    "editable": true
   },
   "outputs": [],
   "source": [
    "import sys\n",
    "def print_stats(session, feature_batch, label_batch, cost, accuracy):\n",
    "    \"\"\"\n",
    "    Print information about loss and validation accuracy\n",
    "    : session: Current TensorFlow session\n",
    "    : feature_batch: Batch of Numpy image data\n",
    "    : label_batch: Batch of Numpy label data\n",
    "    : cost: TensorFlow cost function\n",
    "    : accuracy: TensorFlow accuracy function\n",
    "    \"\"\"\n",
    "    cost_value = session.run(cost, feed_dict = {x:feature_batch, y:label_batch, keep_prob:1})\n",
    "    accuracy_value = session.run(accuracy, feed_dict = {x:valid_features, y:valid_labels, keep_prob:1})\n",
    "    print(\"cost = {}, accuracy = {}\".format(cost_value, accuracy_value))\n",
    "    #sys.stdout.write(\"\\rEpoch = \"+str(epoch)+\": cost = \"+str(cost_value)[:5]+\"accuracy = \"+str(accuracy_value)[:5])"
   ]
  },
  {
   "cell_type": "markdown",
   "metadata": {
    "deletable": true,
    "editable": true
   },
   "source": [
    "### Hyperparameters\n",
    "Tune the following parameters:\n",
    "* Set `epochs` to the number of iterations until the network stops learning or start overfitting\n",
    "* Set `batch_size` to the highest number that your machine has memory for.  Most people set them to common sizes of memory:\n",
    " * 64\n",
    " * 128\n",
    " * 256\n",
    " * ...\n",
    "* Set `keep_probability` to the probability of keeping a node using dropout"
   ]
  },
  {
   "cell_type": "code",
   "execution_count": 21,
   "metadata": {
    "collapsed": true,
    "deletable": true,
    "editable": true
   },
   "outputs": [],
   "source": [
    "# TODO: Tune Parameters\n",
    "epochs = 100\n",
    "batch_size = 128\n",
    "keep_probability = 0.6"
   ]
  },
  {
   "cell_type": "markdown",
   "metadata": {
    "deletable": true,
    "editable": true
   },
   "source": [
    "### Train on a Single CIFAR-10 Batch\n",
    "Instead of training the neural network on all the CIFAR-10 batches of data, let's use a single batch. This should save time while you iterate on the model to get a better accuracy.  Once the final validation accuracy is 50% or greater, run the model on all the data in the next section."
   ]
  },
  {
   "cell_type": "code",
   "execution_count": 22,
   "metadata": {
    "collapsed": false,
    "deletable": true,
    "editable": true
   },
   "outputs": [
    {
     "name": "stdout",
     "output_type": "stream",
     "text": [
      "Checking the Training on a Single Batch...\n",
      "Epoch  1, CIFAR-10 Batch 1:  cost = 2.1307594776153564, accuracy = 0.2661999762058258\n",
      "Epoch  2, CIFAR-10 Batch 1:  cost = 2.0765514373779297, accuracy = 0.33879998326301575\n",
      "Epoch  3, CIFAR-10 Batch 1:  cost = 1.9454772472381592, accuracy = 0.4001999795436859\n",
      "Epoch  4, CIFAR-10 Batch 1:  cost = 1.8180930614471436, accuracy = 0.42479997873306274\n",
      "Epoch  5, CIFAR-10 Batch 1:  cost = 1.7204558849334717, accuracy = 0.43459999561309814\n",
      "Epoch  6, CIFAR-10 Batch 1:  cost = 1.6743571758270264, accuracy = 0.446399986743927\n",
      "Epoch  7, CIFAR-10 Batch 1:  cost = 1.6280831098556519, accuracy = 0.4493999481201172\n",
      "Epoch  8, CIFAR-10 Batch 1:  cost = 1.5467227697372437, accuracy = 0.46679994463920593\n",
      "Epoch  9, CIFAR-10 Batch 1:  cost = 1.4701437950134277, accuracy = 0.47699999809265137\n",
      "Epoch 10, CIFAR-10 Batch 1:  cost = 1.4581224918365479, accuracy = 0.4793999493122101\n",
      "Epoch 11, CIFAR-10 Batch 1:  cost = 1.4185729026794434, accuracy = 0.48419997096061707\n",
      "Epoch 12, CIFAR-10 Batch 1:  cost = 1.361405611038208, accuracy = 0.49119991064071655\n",
      "Epoch 13, CIFAR-10 Batch 1:  cost = 1.3601529598236084, accuracy = 0.4931999444961548\n",
      "Epoch 14, CIFAR-10 Batch 1:  cost = 1.2946045398712158, accuracy = 0.5107999444007874\n",
      "Epoch 15, CIFAR-10 Batch 1:  cost = 1.2391000986099243, accuracy = 0.5085999369621277\n",
      "Epoch 16, CIFAR-10 Batch 1:  cost = 1.2433178424835205, accuracy = 0.5133999586105347\n",
      "Epoch 17, CIFAR-10 Batch 1:  cost = 1.2043029069900513, accuracy = 0.5185999274253845\n",
      "Epoch 18, CIFAR-10 Batch 1:  cost = 1.2088758945465088, accuracy = 0.515799880027771\n",
      "Epoch 19, CIFAR-10 Batch 1:  cost = 1.1561278104782104, accuracy = 0.5267999768257141\n",
      "Epoch 20, CIFAR-10 Batch 1:  cost = 1.1358675956726074, accuracy = 0.5271999835968018\n",
      "Epoch 21, CIFAR-10 Batch 1:  cost = 1.106126070022583, accuracy = 0.5303999185562134\n",
      "Epoch 22, CIFAR-10 Batch 1:  cost = 1.0835835933685303, accuracy = 0.5305998921394348\n",
      "Epoch 23, CIFAR-10 Batch 1:  cost = 1.045494794845581, accuracy = 0.5441999435424805\n",
      "Epoch 24, CIFAR-10 Batch 1:  cost = 1.0279616117477417, accuracy = 0.5417999029159546\n",
      "Epoch 25, CIFAR-10 Batch 1:  cost = 1.021867036819458, accuracy = 0.5435999631881714\n",
      "Epoch 26, CIFAR-10 Batch 1:  cost = 1.0111377239227295, accuracy = 0.5425999164581299\n",
      "Epoch 27, CIFAR-10 Batch 1:  cost = 0.9803621768951416, accuracy = 0.549799919128418\n",
      "Epoch 28, CIFAR-10 Batch 1:  cost = 0.9449340105056763, accuracy = 0.5517999529838562\n",
      "Epoch 29, CIFAR-10 Batch 1:  cost = 0.9500366449356079, accuracy = 0.5493999719619751\n",
      "Epoch 30, CIFAR-10 Batch 1:  cost = 0.9070894718170166, accuracy = 0.5541998744010925\n",
      "Epoch 31, CIFAR-10 Batch 1:  cost = 0.9085491895675659, accuracy = 0.5559999346733093\n",
      "Epoch 32, CIFAR-10 Batch 1:  cost = 0.8684091567993164, accuracy = 0.5547999143600464\n",
      "Epoch 33, CIFAR-10 Batch 1:  cost = 0.8261901140213013, accuracy = 0.553399920463562\n",
      "Epoch 34, CIFAR-10 Batch 1:  cost = 0.8285886645317078, accuracy = 0.5523999929428101\n",
      "Epoch 35, CIFAR-10 Batch 1:  cost = 0.798981785774231, accuracy = 0.5587999224662781\n",
      "Epoch 36, CIFAR-10 Batch 1:  cost = 0.7452917098999023, accuracy = 0.559999942779541\n",
      "Epoch 37, CIFAR-10 Batch 1:  cost = 0.7259939312934875, accuracy = 0.5647999048233032\n",
      "Epoch 38, CIFAR-10 Batch 1:  cost = 0.7558656334877014, accuracy = 0.5587999820709229\n",
      "Epoch 39, CIFAR-10 Batch 1:  cost = 0.7115055918693542, accuracy = 0.5623999238014221\n",
      "Epoch 40, CIFAR-10 Batch 1:  cost = 0.6841294765472412, accuracy = 0.5713999271392822\n",
      "Epoch 41, CIFAR-10 Batch 1:  cost = 0.6210855841636658, accuracy = 0.5679999589920044\n",
      "Epoch 42, CIFAR-10 Batch 1:  cost = 0.6315873861312866, accuracy = 0.5587999224662781\n",
      "Epoch 43, CIFAR-10 Batch 1:  cost = 0.5973008275032043, accuracy = 0.567599892616272\n",
      "Epoch 44, CIFAR-10 Batch 1:  cost = 0.5626809000968933, accuracy = 0.5659999251365662\n",
      "Epoch 45, CIFAR-10 Batch 1:  cost = 0.5572715401649475, accuracy = 0.5745999217033386\n",
      "Epoch 46, CIFAR-10 Batch 1:  cost = 0.5563037395477295, accuracy = 0.5705999135971069\n",
      "Epoch 47, CIFAR-10 Batch 1:  cost = 0.5656149983406067, accuracy = 0.5717999935150146\n",
      "Epoch 48, CIFAR-10 Batch 1:  cost = 0.5622825622558594, accuracy = 0.5665999054908752\n",
      "Epoch 49, CIFAR-10 Batch 1:  cost = 0.5485420227050781, accuracy = 0.5649999380111694\n",
      "Epoch 50, CIFAR-10 Batch 1:  cost = 0.49495235085487366, accuracy = 0.5709999799728394\n",
      "Epoch 51, CIFAR-10 Batch 1:  cost = 0.45940980315208435, accuracy = 0.5739999413490295\n",
      "Epoch 52, CIFAR-10 Batch 1:  cost = 0.440746009349823, accuracy = 0.5805999040603638\n",
      "Epoch 53, CIFAR-10 Batch 1:  cost = 0.4119892418384552, accuracy = 0.5701999664306641\n",
      "Epoch 54, CIFAR-10 Batch 1:  cost = 0.4110220968723297, accuracy = 0.5779999494552612\n",
      "Epoch 55, CIFAR-10 Batch 1:  cost = 0.41249358654022217, accuracy = 0.5823999643325806\n",
      "Epoch 56, CIFAR-10 Batch 1:  cost = 0.3993343114852905, accuracy = 0.5773999094963074\n",
      "Epoch 57, CIFAR-10 Batch 1:  cost = 0.39211925864219666, accuracy = 0.5757999420166016\n",
      "Epoch 58, CIFAR-10 Batch 1:  cost = 0.38076430559158325, accuracy = 0.5773999691009521\n",
      "Epoch 59, CIFAR-10 Batch 1:  cost = 0.38241228461265564, accuracy = 0.5763999223709106\n",
      "Epoch 60, CIFAR-10 Batch 1:  cost = 0.37030744552612305, accuracy = 0.5717999339103699\n",
      "Epoch 61, CIFAR-10 Batch 1:  cost = 0.3797895014286041, accuracy = 0.5773999691009521\n",
      "Epoch 62, CIFAR-10 Batch 1:  cost = 0.3523373007774353, accuracy = 0.5779998898506165\n",
      "Epoch 63, CIFAR-10 Batch 1:  cost = 0.36769047379493713, accuracy = 0.5775999426841736\n",
      "Epoch 64, CIFAR-10 Batch 1:  cost = 0.3382309377193451, accuracy = 0.5753999948501587\n",
      "Epoch 65, CIFAR-10 Batch 1:  cost = 0.31898653507232666, accuracy = 0.5773998498916626\n",
      "Epoch 66, CIFAR-10 Batch 1:  cost = 0.33080142736434937, accuracy = 0.5847998857498169\n",
      "Epoch 67, CIFAR-10 Batch 1:  cost = 0.3188283443450928, accuracy = 0.5773999094963074\n",
      "Epoch 68, CIFAR-10 Batch 1:  cost = 0.32479631900787354, accuracy = 0.5789998769760132\n",
      "Epoch 69, CIFAR-10 Batch 1:  cost = 0.29941779375076294, accuracy = 0.5847998857498169\n",
      "Epoch 70, CIFAR-10 Batch 1:  cost = 0.29416367411613464, accuracy = 0.5787999629974365\n",
      "Epoch 71, CIFAR-10 Batch 1:  cost = 0.30121511220932007, accuracy = 0.5747999548912048\n",
      "Epoch 72, CIFAR-10 Batch 1:  cost = 0.3252982199192047, accuracy = 0.5671999454498291\n",
      "Epoch 73, CIFAR-10 Batch 1:  cost = 0.28809916973114014, accuracy = 0.5819998979568481\n",
      "Epoch 74, CIFAR-10 Batch 1:  cost = 0.27046358585357666, accuracy = 0.5775999426841736\n",
      "Epoch 75, CIFAR-10 Batch 1:  cost = 0.25896772742271423, accuracy = 0.5753998756408691\n",
      "Epoch 76, CIFAR-10 Batch 1:  cost = 0.29485318064689636, accuracy = 0.5689999461174011\n",
      "Epoch 77, CIFAR-10 Batch 1:  cost = 0.2501174807548523, accuracy = 0.5763999223709106\n",
      "Epoch 78, CIFAR-10 Batch 1:  cost = 0.23358726501464844, accuracy = 0.5765998959541321\n",
      "Epoch 79, CIFAR-10 Batch 1:  cost = 0.22305232286453247, accuracy = 0.5819998979568481\n",
      "Epoch 80, CIFAR-10 Batch 1:  cost = 0.25064200162887573, accuracy = 0.5719999074935913\n",
      "Epoch 81, CIFAR-10 Batch 1:  cost = 0.235667422413826, accuracy = 0.5769999623298645\n",
      "Epoch 82, CIFAR-10 Batch 1:  cost = 0.22717532515525818, accuracy = 0.575999915599823\n",
      "Epoch 83, CIFAR-10 Batch 1:  cost = 0.21764779090881348, accuracy = 0.5725999474525452\n",
      "Epoch 84, CIFAR-10 Batch 1:  cost = 0.21275663375854492, accuracy = 0.5801999568939209\n",
      "Epoch 85, CIFAR-10 Batch 1:  cost = 0.194847971200943, accuracy = 0.5731999278068542\n",
      "Epoch 86, CIFAR-10 Batch 1:  cost = 0.20359864830970764, accuracy = 0.5747999548912048\n",
      "Epoch 87, CIFAR-10 Batch 1:  cost = 0.19377662241458893, accuracy = 0.5771999359130859\n",
      "Epoch 88, CIFAR-10 Batch 1:  cost = 0.19722893834114075, accuracy = 0.5785999298095703\n",
      "Epoch 89, CIFAR-10 Batch 1:  cost = 0.19098925590515137, accuracy = 0.5703998804092407\n",
      "Epoch 90, CIFAR-10 Batch 1:  cost = 0.19061580300331116, accuracy = 0.5811999440193176\n",
      "Epoch 91, CIFAR-10 Batch 1:  cost = 0.2008531391620636, accuracy = 0.5863999128341675\n",
      "Epoch 92, CIFAR-10 Batch 1:  cost = 0.1745518147945404, accuracy = 0.5799999237060547\n",
      "Epoch 93, CIFAR-10 Batch 1:  cost = 0.18614532053470612, accuracy = 0.575999915599823\n",
      "Epoch 94, CIFAR-10 Batch 1:  cost = 0.18491697311401367, accuracy = 0.5793999433517456\n",
      "Epoch 95, CIFAR-10 Batch 1:  cost = 0.20067697763442993, accuracy = 0.5709999799728394\n",
      "Epoch 96, CIFAR-10 Batch 1:  cost = 0.20474408566951752, accuracy = 0.5727999210357666\n",
      "Epoch 97, CIFAR-10 Batch 1:  cost = 0.1810549944639206, accuracy = 0.5753999948501587\n",
      "Epoch 98, CIFAR-10 Batch 1:  cost = 0.1927759349346161, accuracy = 0.5799999237060547\n",
      "Epoch 99, CIFAR-10 Batch 1:  cost = 0.16259729862213135, accuracy = 0.5779999494552612\n",
      "Epoch 100, CIFAR-10 Batch 1:  cost = 0.15552988648414612, accuracy = 0.577799916267395\n"
     ]
    }
   ],
   "source": [
    "\"\"\"\n",
    "DON'T MODIFY ANYTHING IN THIS CELL\n",
    "\"\"\"\n",
    "print('Checking the Training on a Single Batch...')\n",
    "with tf.Session() as sess:\n",
    "    # Initializing the variables\n",
    "    sess.run(tf.global_variables_initializer())\n",
    "    \n",
    "    # Training cycle\n",
    "    for epoch in range(epochs):\n",
    "        batch_i = 1\n",
    "        for batch_features, batch_labels in helper.load_preprocess_training_batch(batch_i, batch_size):\n",
    "            train_neural_network(sess, optimizer, keep_probability, batch_features, batch_labels)\n",
    "        print('Epoch {:>2}, CIFAR-10 Batch {}:  '.format(epoch + 1, batch_i), end='')\n",
    "        print_stats(sess, batch_features, batch_labels, cost, accuracy)"
   ]
  },
  {
   "cell_type": "markdown",
   "metadata": {
    "deletable": true,
    "editable": true
   },
   "source": [
    "### Fully Train the Model\n",
    "Now that you got a good accuracy with a single CIFAR-10 batch, try it with all five batches."
   ]
  },
  {
   "cell_type": "code",
   "execution_count": 23,
   "metadata": {
    "collapsed": false,
    "deletable": true,
    "editable": true
   },
   "outputs": [
    {
     "name": "stdout",
     "output_type": "stream",
     "text": [
      "Training...\n",
      "Epoch  1, CIFAR-10 Batch 1:  cost = 2.1351659297943115, accuracy = 0.2629999816417694\n",
      "Epoch  1, CIFAR-10 Batch 2:  cost = 1.9806838035583496, accuracy = 0.3255999684333801\n",
      "Epoch  1, CIFAR-10 Batch 3:  cost = 1.723901391029358, accuracy = 0.3723999857902527\n",
      "Epoch  1, CIFAR-10 Batch 4:  cost = 1.7365245819091797, accuracy = 0.4009999930858612\n",
      "Epoch  1, CIFAR-10 Batch 5:  cost = 1.7032394409179688, accuracy = 0.405599981546402\n",
      "Epoch  2, CIFAR-10 Batch 1:  cost = 1.8868658542633057, accuracy = 0.4219999611377716\n",
      "Epoch  2, CIFAR-10 Batch 2:  cost = 1.6368138790130615, accuracy = 0.4339999854564667\n",
      "Epoch  2, CIFAR-10 Batch 3:  cost = 1.364455223083496, accuracy = 0.4341999590396881\n",
      "Epoch  2, CIFAR-10 Batch 4:  cost = 1.5939832925796509, accuracy = 0.4535999894142151\n",
      "Epoch  2, CIFAR-10 Batch 5:  cost = 1.5037224292755127, accuracy = 0.4565999507904053\n",
      "Epoch  3, CIFAR-10 Batch 1:  cost = 1.7151681184768677, accuracy = 0.47259995341300964\n",
      "Epoch  3, CIFAR-10 Batch 2:  cost = 1.4480663537979126, accuracy = 0.4829999804496765\n",
      "Epoch  3, CIFAR-10 Batch 3:  cost = 1.2158641815185547, accuracy = 0.4845999479293823\n",
      "Epoch  3, CIFAR-10 Batch 4:  cost = 1.478212594985962, accuracy = 0.4971999526023865\n",
      "Epoch  3, CIFAR-10 Batch 5:  cost = 1.3771719932556152, accuracy = 0.5013999938964844\n",
      "Epoch  4, CIFAR-10 Batch 1:  cost = 1.5849628448486328, accuracy = 0.5039999485015869\n",
      "Epoch  4, CIFAR-10 Batch 2:  cost = 1.3293709754943848, accuracy = 0.514799952507019\n",
      "Epoch  4, CIFAR-10 Batch 3:  cost = 1.1065912246704102, accuracy = 0.5233999490737915\n",
      "Epoch  4, CIFAR-10 Batch 4:  cost = 1.3418188095092773, accuracy = 0.5311999320983887\n",
      "Epoch  4, CIFAR-10 Batch 5:  cost = 1.3021619319915771, accuracy = 0.5287998914718628\n",
      "Epoch  5, CIFAR-10 Batch 1:  cost = 1.4351969957351685, accuracy = 0.528999924659729\n",
      "Epoch  5, CIFAR-10 Batch 2:  cost = 1.1970713138580322, accuracy = 0.5437999367713928\n",
      "Epoch  5, CIFAR-10 Batch 3:  cost = 1.0566221475601196, accuracy = 0.5405999422073364\n",
      "Epoch  5, CIFAR-10 Batch 4:  cost = 1.219040870666504, accuracy = 0.5513999462127686\n",
      "Epoch  5, CIFAR-10 Batch 5:  cost = 1.2064534425735474, accuracy = 0.5513999462127686\n",
      "Epoch  6, CIFAR-10 Batch 1:  cost = 1.3870782852172852, accuracy = 0.5553999543190002\n",
      "Epoch  6, CIFAR-10 Batch 2:  cost = 1.1130377054214478, accuracy = 0.5601999163627625\n",
      "Epoch  6, CIFAR-10 Batch 3:  cost = 0.9934552311897278, accuracy = 0.5609999299049377\n",
      "Epoch  6, CIFAR-10 Batch 4:  cost = 1.1507539749145508, accuracy = 0.5699999332427979\n",
      "Epoch  6, CIFAR-10 Batch 5:  cost = 1.1684551239013672, accuracy = 0.5661998987197876\n",
      "Epoch  7, CIFAR-10 Batch 1:  cost = 1.3293875455856323, accuracy = 0.5685999393463135\n",
      "Epoch  7, CIFAR-10 Batch 2:  cost = 1.0515029430389404, accuracy = 0.585399866104126\n",
      "Epoch  7, CIFAR-10 Batch 3:  cost = 0.9657143354415894, accuracy = 0.5751999020576477\n",
      "Epoch  7, CIFAR-10 Batch 4:  cost = 1.086280345916748, accuracy = 0.5831999182701111\n",
      "Epoch  7, CIFAR-10 Batch 5:  cost = 1.124456763267517, accuracy = 0.5763999819755554\n",
      "Epoch  8, CIFAR-10 Batch 1:  cost = 1.2039508819580078, accuracy = 0.577799916267395\n",
      "Epoch  8, CIFAR-10 Batch 2:  cost = 0.9690676331520081, accuracy = 0.5945998430252075\n",
      "Epoch  8, CIFAR-10 Batch 3:  cost = 0.9262410402297974, accuracy = 0.5839999318122864\n",
      "Epoch  8, CIFAR-10 Batch 4:  cost = 1.015193223953247, accuracy = 0.5931999087333679\n",
      "Epoch  8, CIFAR-10 Batch 5:  cost = 1.1020642518997192, accuracy = 0.5865999460220337\n",
      "Epoch  9, CIFAR-10 Batch 1:  cost = 1.2222758531570435, accuracy = 0.6011999249458313\n",
      "Epoch  9, CIFAR-10 Batch 2:  cost = 0.93156498670578, accuracy = 0.6021999716758728\n",
      "Epoch  9, CIFAR-10 Batch 3:  cost = 0.8995226621627808, accuracy = 0.592799961566925\n",
      "Epoch  9, CIFAR-10 Batch 4:  cost = 0.9805625081062317, accuracy = 0.6109999418258667\n",
      "Epoch  9, CIFAR-10 Batch 5:  cost = 1.0507551431655884, accuracy = 0.5991999506950378\n",
      "Epoch 10, CIFAR-10 Batch 1:  cost = 1.0960649251937866, accuracy = 0.5905998945236206\n",
      "Epoch 10, CIFAR-10 Batch 2:  cost = 0.8726038336753845, accuracy = 0.6147999167442322\n",
      "Epoch 10, CIFAR-10 Batch 3:  cost = 0.8562511205673218, accuracy = 0.6171998381614685\n",
      "Epoch 10, CIFAR-10 Batch 4:  cost = 0.9142329692840576, accuracy = 0.625999927520752\n",
      "Epoch 10, CIFAR-10 Batch 5:  cost = 1.0007123947143555, accuracy = 0.6135998964309692\n",
      "Epoch 11, CIFAR-10 Batch 1:  cost = 1.0714348554611206, accuracy = 0.6077999472618103\n",
      "Epoch 11, CIFAR-10 Batch 2:  cost = 0.8275880217552185, accuracy = 0.6245999336242676\n",
      "Epoch 11, CIFAR-10 Batch 3:  cost = 0.8230851888656616, accuracy = 0.6169999241828918\n",
      "Epoch 11, CIFAR-10 Batch 4:  cost = 0.889077365398407, accuracy = 0.6195999383926392\n",
      "Epoch 11, CIFAR-10 Batch 5:  cost = 0.9536814093589783, accuracy = 0.622999906539917\n",
      "Epoch 12, CIFAR-10 Batch 1:  cost = 1.0727499723434448, accuracy = 0.6225998401641846\n",
      "Epoch 12, CIFAR-10 Batch 2:  cost = 0.8245370388031006, accuracy = 0.6289999485015869\n",
      "Epoch 12, CIFAR-10 Batch 3:  cost = 0.8384305238723755, accuracy = 0.6259998679161072\n",
      "Epoch 12, CIFAR-10 Batch 4:  cost = 0.8559778332710266, accuracy = 0.6193999648094177\n",
      "Epoch 12, CIFAR-10 Batch 5:  cost = 0.9312057495117188, accuracy = 0.6261999011039734\n",
      "Epoch 13, CIFAR-10 Batch 1:  cost = 0.9869745969772339, accuracy = 0.6269999146461487\n",
      "Epoch 13, CIFAR-10 Batch 2:  cost = 0.8087918758392334, accuracy = 0.6243999004364014\n",
      "Epoch 13, CIFAR-10 Batch 3:  cost = 0.794082760810852, accuracy = 0.6307998895645142\n",
      "Epoch 13, CIFAR-10 Batch 4:  cost = 0.8258700370788574, accuracy = 0.6307998895645142\n",
      "Epoch 13, CIFAR-10 Batch 5:  cost = 0.860479474067688, accuracy = 0.6303998827934265\n",
      "Epoch 14, CIFAR-10 Batch 1:  cost = 0.9904360771179199, accuracy = 0.6309999227523804\n",
      "Epoch 14, CIFAR-10 Batch 2:  cost = 0.7558736801147461, accuracy = 0.6381999254226685\n",
      "Epoch 14, CIFAR-10 Batch 3:  cost = 0.7309626936912537, accuracy = 0.6347998976707458\n",
      "Epoch 14, CIFAR-10 Batch 4:  cost = 0.7669660449028015, accuracy = 0.6395999193191528\n",
      "Epoch 14, CIFAR-10 Batch 5:  cost = 0.870373010635376, accuracy = 0.6341999173164368\n",
      "Epoch 15, CIFAR-10 Batch 1:  cost = 0.9677708148956299, accuracy = 0.6415998935699463\n",
      "Epoch 15, CIFAR-10 Batch 2:  cost = 0.7489060759544373, accuracy = 0.635999858379364\n",
      "Epoch 15, CIFAR-10 Batch 3:  cost = 0.6979844570159912, accuracy = 0.6431999206542969\n",
      "Epoch 15, CIFAR-10 Batch 4:  cost = 0.7728593945503235, accuracy = 0.6305999159812927\n",
      "Epoch 15, CIFAR-10 Batch 5:  cost = 0.8605732321739197, accuracy = 0.6263998746871948\n",
      "Epoch 16, CIFAR-10 Batch 1:  cost = 0.9624291062355042, accuracy = 0.6357999444007874\n",
      "Epoch 16, CIFAR-10 Batch 2:  cost = 0.7340936660766602, accuracy = 0.6415998935699463\n",
      "Epoch 16, CIFAR-10 Batch 3:  cost = 0.7335258722305298, accuracy = 0.6383998990058899\n",
      "Epoch 16, CIFAR-10 Batch 4:  cost = 0.7539029121398926, accuracy = 0.638999879360199\n",
      "Epoch 16, CIFAR-10 Batch 5:  cost = 0.8134709596633911, accuracy = 0.6419999003410339\n",
      "Epoch 17, CIFAR-10 Batch 1:  cost = 0.876569390296936, accuracy = 0.6451998949050903\n",
      "Epoch 17, CIFAR-10 Batch 2:  cost = 0.7181581258773804, accuracy = 0.6493998765945435\n",
      "Epoch 17, CIFAR-10 Batch 3:  cost = 0.6590343713760376, accuracy = 0.6405998468399048\n",
      "Epoch 17, CIFAR-10 Batch 4:  cost = 0.756813108921051, accuracy = 0.6383999586105347\n",
      "Epoch 17, CIFAR-10 Batch 5:  cost = 0.8049061298370361, accuracy = 0.6365998983383179\n",
      "Epoch 18, CIFAR-10 Batch 1:  cost = 0.8880568742752075, accuracy = 0.6319999098777771\n",
      "Epoch 18, CIFAR-10 Batch 2:  cost = 0.701134443283081, accuracy = 0.6349998712539673\n",
      "Epoch 18, CIFAR-10 Batch 3:  cost = 0.6421527862548828, accuracy = 0.645599901676178\n",
      "Epoch 18, CIFAR-10 Batch 4:  cost = 0.7087655663490295, accuracy = 0.638999879360199\n",
      "Epoch 18, CIFAR-10 Batch 5:  cost = 0.7674034237861633, accuracy = 0.6445999145507812\n",
      "Epoch 19, CIFAR-10 Batch 1:  cost = 0.8845957517623901, accuracy = 0.6461998820304871\n",
      "Epoch 19, CIFAR-10 Batch 2:  cost = 0.7000409960746765, accuracy = 0.6439999341964722\n",
      "Epoch 19, CIFAR-10 Batch 3:  cost = 0.6106655597686768, accuracy = 0.653999924659729\n",
      "Epoch 19, CIFAR-10 Batch 4:  cost = 0.7079556584358215, accuracy = 0.6387999057769775\n",
      "Epoch 19, CIFAR-10 Batch 5:  cost = 0.7592233419418335, accuracy = 0.6409999132156372\n",
      "Epoch 20, CIFAR-10 Batch 1:  cost = 0.8508298993110657, accuracy = 0.6405999064445496\n",
      "Epoch 20, CIFAR-10 Batch 2:  cost = 0.6521540880203247, accuracy = 0.6479998826980591\n",
      "Epoch 20, CIFAR-10 Batch 3:  cost = 0.592055082321167, accuracy = 0.6507998704910278\n",
      "Epoch 20, CIFAR-10 Batch 4:  cost = 0.679527997970581, accuracy = 0.6513999104499817\n",
      "Epoch 20, CIFAR-10 Batch 5:  cost = 0.7423399686813354, accuracy = 0.6394000053405762\n",
      "Epoch 21, CIFAR-10 Batch 1:  cost = 0.8298707008361816, accuracy = 0.6417998671531677\n",
      "Epoch 21, CIFAR-10 Batch 2:  cost = 0.6308407783508301, accuracy = 0.6523998975753784\n",
      "Epoch 21, CIFAR-10 Batch 3:  cost = 0.5755385160446167, accuracy = 0.6543998718261719\n",
      "Epoch 21, CIFAR-10 Batch 4:  cost = 0.6475751996040344, accuracy = 0.6503998637199402\n",
      "Epoch 21, CIFAR-10 Batch 5:  cost = 0.7303991317749023, accuracy = 0.6543998718261719\n",
      "Epoch 22, CIFAR-10 Batch 1:  cost = 0.8382134437561035, accuracy = 0.6517998576164246\n",
      "Epoch 22, CIFAR-10 Batch 2:  cost = 0.6245185732841492, accuracy = 0.6579998731613159\n",
      "Epoch 22, CIFAR-10 Batch 3:  cost = 0.544045090675354, accuracy = 0.6555998921394348\n",
      "Epoch 22, CIFAR-10 Batch 4:  cost = 0.6199275851249695, accuracy = 0.6535999178886414\n",
      "Epoch 22, CIFAR-10 Batch 5:  cost = 0.6995069980621338, accuracy = 0.6527998447418213\n",
      "Epoch 23, CIFAR-10 Batch 1:  cost = 0.8800530433654785, accuracy = 0.6427999138832092\n",
      "Epoch 23, CIFAR-10 Batch 2:  cost = 0.602920413017273, accuracy = 0.6565999388694763\n",
      "Epoch 23, CIFAR-10 Batch 3:  cost = 0.5321447849273682, accuracy = 0.6589999198913574\n",
      "Epoch 23, CIFAR-10 Batch 4:  cost = 0.6237613558769226, accuracy = 0.6581998467445374\n",
      "Epoch 23, CIFAR-10 Batch 5:  cost = 0.7012540698051453, accuracy = 0.6553999185562134\n",
      "Epoch 24, CIFAR-10 Batch 1:  cost = 0.8348325490951538, accuracy = 0.6441998481750488\n",
      "Epoch 24, CIFAR-10 Batch 2:  cost = 0.5919203162193298, accuracy = 0.6591998934745789\n",
      "Epoch 24, CIFAR-10 Batch 3:  cost = 0.5226649045944214, accuracy = 0.6617998480796814\n",
      "Epoch 24, CIFAR-10 Batch 4:  cost = 0.6191337704658508, accuracy = 0.6571999192237854\n",
      "Epoch 24, CIFAR-10 Batch 5:  cost = 0.7160332202911377, accuracy = 0.6427998542785645\n",
      "Epoch 25, CIFAR-10 Batch 1:  cost = 0.8081223964691162, accuracy = 0.654999852180481\n",
      "Epoch 25, CIFAR-10 Batch 2:  cost = 0.5764140486717224, accuracy = 0.6513998508453369\n",
      "Epoch 25, CIFAR-10 Batch 3:  cost = 0.5077849626541138, accuracy = 0.6565998792648315\n",
      "Epoch 25, CIFAR-10 Batch 4:  cost = 0.6073383688926697, accuracy = 0.657599925994873\n",
      "Epoch 25, CIFAR-10 Batch 5:  cost = 0.7019506096839905, accuracy = 0.6507998704910278\n",
      "Epoch 26, CIFAR-10 Batch 1:  cost = 0.7755738496780396, accuracy = 0.6557998657226562\n",
      "Epoch 26, CIFAR-10 Batch 2:  cost = 0.5992404818534851, accuracy = 0.6525998711585999\n",
      "Epoch 26, CIFAR-10 Batch 3:  cost = 0.49531421065330505, accuracy = 0.657599925994873\n",
      "Epoch 26, CIFAR-10 Batch 4:  cost = 0.627409040927887, accuracy = 0.6553999185562134\n",
      "Epoch 26, CIFAR-10 Batch 5:  cost = 0.6558294892311096, accuracy = 0.6505999565124512\n",
      "Epoch 27, CIFAR-10 Batch 1:  cost = 0.7756996750831604, accuracy = 0.6567999124526978\n",
      "Epoch 27, CIFAR-10 Batch 2:  cost = 0.5548598170280457, accuracy = 0.660399854183197\n",
      "Epoch 27, CIFAR-10 Batch 3:  cost = 0.49846673011779785, accuracy = 0.6563999652862549\n",
      "Epoch 27, CIFAR-10 Batch 4:  cost = 0.6051248908042908, accuracy = 0.6579998731613159\n",
      "Epoch 27, CIFAR-10 Batch 5:  cost = 0.6375489234924316, accuracy = 0.6501998901367188\n",
      "Epoch 28, CIFAR-10 Batch 1:  cost = 0.790302574634552, accuracy = 0.6607998609542847\n",
      "Epoch 28, CIFAR-10 Batch 2:  cost = 0.5348943471908569, accuracy = 0.6589999198913574\n",
      "Epoch 28, CIFAR-10 Batch 3:  cost = 0.4977594316005707, accuracy = 0.6625998616218567\n",
      "Epoch 28, CIFAR-10 Batch 4:  cost = 0.594449520111084, accuracy = 0.6645998358726501\n",
      "Epoch 28, CIFAR-10 Batch 5:  cost = 0.6492999792098999, accuracy = 0.6469998955726624\n",
      "Epoch 29, CIFAR-10 Batch 1:  cost = 0.7862193584442139, accuracy = 0.6575998663902283\n",
      "Epoch 29, CIFAR-10 Batch 2:  cost = 0.529961109161377, accuracy = 0.6611998081207275\n",
      "Epoch 29, CIFAR-10 Batch 3:  cost = 0.48185107111930847, accuracy = 0.6537998914718628\n",
      "Epoch 29, CIFAR-10 Batch 4:  cost = 0.6045761108398438, accuracy = 0.6677998900413513\n",
      "Epoch 29, CIFAR-10 Batch 5:  cost = 0.6231919527053833, accuracy = 0.6587998867034912\n",
      "Epoch 30, CIFAR-10 Batch 1:  cost = 0.7528917789459229, accuracy = 0.6623998880386353\n",
      "Epoch 30, CIFAR-10 Batch 2:  cost = 0.5307074189186096, accuracy = 0.6611998677253723\n",
      "Epoch 30, CIFAR-10 Batch 3:  cost = 0.46246445178985596, accuracy = 0.6657998561859131\n",
      "Epoch 30, CIFAR-10 Batch 4:  cost = 0.5779581069946289, accuracy = 0.6653999090194702\n",
      "Epoch 30, CIFAR-10 Batch 5:  cost = 0.6153664588928223, accuracy = 0.6607998609542847\n",
      "Epoch 31, CIFAR-10 Batch 1:  cost = 0.6980301141738892, accuracy = 0.6573998928070068\n",
      "Epoch 31, CIFAR-10 Batch 2:  cost = 0.5257725715637207, accuracy = 0.6545999050140381\n",
      "Epoch 31, CIFAR-10 Batch 3:  cost = 0.4793429970741272, accuracy = 0.6597999334335327\n",
      "Epoch 31, CIFAR-10 Batch 4:  cost = 0.5895209312438965, accuracy = 0.6641998887062073\n",
      "Epoch 31, CIFAR-10 Batch 5:  cost = 0.5973670482635498, accuracy = 0.650999903678894\n",
      "Epoch 32, CIFAR-10 Batch 1:  cost = 0.7330821752548218, accuracy = 0.6663998961448669\n",
      "Epoch 32, CIFAR-10 Batch 2:  cost = 0.4873794913291931, accuracy = 0.6613999605178833\n",
      "Epoch 32, CIFAR-10 Batch 3:  cost = 0.46230512857437134, accuracy = 0.6627998948097229\n",
      "Epoch 32, CIFAR-10 Batch 4:  cost = 0.5551446080207825, accuracy = 0.668199896812439\n",
      "Epoch 32, CIFAR-10 Batch 5:  cost = 0.6243293285369873, accuracy = 0.6477998495101929\n",
      "Epoch 33, CIFAR-10 Batch 1:  cost = 0.6830074191093445, accuracy = 0.6645998954772949\n",
      "Epoch 33, CIFAR-10 Batch 2:  cost = 0.48085296154022217, accuracy = 0.6623998284339905\n",
      "Epoch 33, CIFAR-10 Batch 3:  cost = 0.4282333254814148, accuracy = 0.6627998352050781\n",
      "Epoch 33, CIFAR-10 Batch 4:  cost = 0.5491902828216553, accuracy = 0.6687999367713928\n",
      "Epoch 33, CIFAR-10 Batch 5:  cost = 0.589788556098938, accuracy = 0.6547998785972595\n",
      "Epoch 34, CIFAR-10 Batch 1:  cost = 0.7391786575317383, accuracy = 0.660399854183197\n",
      "Epoch 34, CIFAR-10 Batch 2:  cost = 0.4750314950942993, accuracy = 0.6703998446464539\n",
      "Epoch 34, CIFAR-10 Batch 3:  cost = 0.46568775177001953, accuracy = 0.6645998954772949\n",
      "Epoch 34, CIFAR-10 Batch 4:  cost = 0.5606904625892639, accuracy = 0.6695998311042786\n",
      "Epoch 34, CIFAR-10 Batch 5:  cost = 0.5594847202301025, accuracy = 0.6593998670578003\n",
      "Epoch 35, CIFAR-10 Batch 1:  cost = 0.7418673038482666, accuracy = 0.668799877166748\n",
      "Epoch 35, CIFAR-10 Batch 2:  cost = 0.4747273623943329, accuracy = 0.6661998629570007\n",
      "Epoch 35, CIFAR-10 Batch 3:  cost = 0.4363420009613037, accuracy = 0.663399875164032\n",
      "Epoch 35, CIFAR-10 Batch 4:  cost = 0.5069112777709961, accuracy = 0.6691998839378357\n",
      "Epoch 35, CIFAR-10 Batch 5:  cost = 0.5533835291862488, accuracy = 0.6585999131202698\n",
      "Epoch 36, CIFAR-10 Batch 1:  cost = 0.6825230121612549, accuracy = 0.6667999029159546\n",
      "Epoch 36, CIFAR-10 Batch 2:  cost = 0.47164422273635864, accuracy = 0.6661999225616455\n",
      "Epoch 36, CIFAR-10 Batch 3:  cost = 0.47423070669174194, accuracy = 0.6547998785972595\n",
      "Epoch 36, CIFAR-10 Batch 4:  cost = 0.540233850479126, accuracy = 0.6699998378753662\n",
      "Epoch 36, CIFAR-10 Batch 5:  cost = 0.5566486120223999, accuracy = 0.6527998447418213\n",
      "Epoch 37, CIFAR-10 Batch 1:  cost = 0.7233954668045044, accuracy = 0.6737998723983765\n",
      "Epoch 37, CIFAR-10 Batch 2:  cost = 0.47267842292785645, accuracy = 0.6703999042510986\n",
      "Epoch 37, CIFAR-10 Batch 3:  cost = 0.4038057327270508, accuracy = 0.665199875831604\n",
      "Epoch 37, CIFAR-10 Batch 4:  cost = 0.5377027988433838, accuracy = 0.6617999076843262\n",
      "Epoch 37, CIFAR-10 Batch 5:  cost = 0.5595380067825317, accuracy = 0.6523998379707336\n",
      "Epoch 38, CIFAR-10 Batch 1:  cost = 0.703275203704834, accuracy = 0.6741999387741089\n",
      "Epoch 38, CIFAR-10 Batch 2:  cost = 0.4547499120235443, accuracy = 0.6735998392105103\n",
      "Epoch 38, CIFAR-10 Batch 3:  cost = 0.3907572329044342, accuracy = 0.6725999116897583\n",
      "Epoch 38, CIFAR-10 Batch 4:  cost = 0.5043402910232544, accuracy = 0.6725998520851135\n",
      "Epoch 38, CIFAR-10 Batch 5:  cost = 0.5156346559524536, accuracy = 0.6609998941421509\n",
      "Epoch 39, CIFAR-10 Batch 1:  cost = 0.7098255157470703, accuracy = 0.6713998913764954\n",
      "Epoch 39, CIFAR-10 Batch 2:  cost = 0.4420478641986847, accuracy = 0.6693999171257019\n",
      "Epoch 39, CIFAR-10 Batch 3:  cost = 0.40176326036453247, accuracy = 0.6703999042510986\n",
      "Epoch 39, CIFAR-10 Batch 4:  cost = 0.5040269494056702, accuracy = 0.6673998832702637\n",
      "Epoch 39, CIFAR-10 Batch 5:  cost = 0.539329469203949, accuracy = 0.6561998128890991\n",
      "Epoch 40, CIFAR-10 Batch 1:  cost = 0.628674328327179, accuracy = 0.6709998846054077\n",
      "Epoch 40, CIFAR-10 Batch 2:  cost = 0.4521423876285553, accuracy = 0.6653998494148254\n",
      "Epoch 40, CIFAR-10 Batch 3:  cost = 0.39981696009635925, accuracy = 0.6677998900413513\n",
      "Epoch 40, CIFAR-10 Batch 4:  cost = 0.516009509563446, accuracy = 0.666999876499176\n",
      "Epoch 40, CIFAR-10 Batch 5:  cost = 0.5222700834274292, accuracy = 0.6637998819351196\n",
      "Epoch 41, CIFAR-10 Batch 1:  cost = 0.6469816565513611, accuracy = 0.6695998907089233\n",
      "Epoch 41, CIFAR-10 Batch 2:  cost = 0.42621031403541565, accuracy = 0.6691998243331909\n",
      "Epoch 41, CIFAR-10 Batch 3:  cost = 0.3829023838043213, accuracy = 0.6667999029159546\n",
      "Epoch 41, CIFAR-10 Batch 4:  cost = 0.46489059925079346, accuracy = 0.673599898815155\n",
      "Epoch 41, CIFAR-10 Batch 5:  cost = 0.5552045702934265, accuracy = 0.6625999212265015\n",
      "Epoch 42, CIFAR-10 Batch 1:  cost = 0.6425857543945312, accuracy = 0.6749998927116394\n",
      "Epoch 42, CIFAR-10 Batch 2:  cost = 0.430969774723053, accuracy = 0.665199875831604\n",
      "Epoch 42, CIFAR-10 Batch 3:  cost = 0.38881975412368774, accuracy = 0.6675998568534851\n",
      "Epoch 42, CIFAR-10 Batch 4:  cost = 0.4509904980659485, accuracy = 0.6679998636245728\n",
      "Epoch 42, CIFAR-10 Batch 5:  cost = 0.5136973857879639, accuracy = 0.6475998759269714\n",
      "Epoch 43, CIFAR-10 Batch 1:  cost = 0.6555753946304321, accuracy = 0.6643998622894287\n",
      "Epoch 43, CIFAR-10 Batch 2:  cost = 0.43809443712234497, accuracy = 0.6665998697280884\n",
      "Epoch 43, CIFAR-10 Batch 3:  cost = 0.3832639157772064, accuracy = 0.6683998703956604\n",
      "Epoch 43, CIFAR-10 Batch 4:  cost = 0.45780807733535767, accuracy = 0.6763999462127686\n",
      "Epoch 43, CIFAR-10 Batch 5:  cost = 0.51352858543396, accuracy = 0.669999897480011\n",
      "Epoch 44, CIFAR-10 Batch 1:  cost = 0.6727897524833679, accuracy = 0.6727998852729797\n",
      "Epoch 44, CIFAR-10 Batch 2:  cost = 0.4338873624801636, accuracy = 0.6707998514175415\n",
      "Epoch 44, CIFAR-10 Batch 3:  cost = 0.37307921051979065, accuracy = 0.6691998243331909\n",
      "Epoch 44, CIFAR-10 Batch 4:  cost = 0.4502624571323395, accuracy = 0.6707998514175415\n",
      "Epoch 44, CIFAR-10 Batch 5:  cost = 0.5155178308486938, accuracy = 0.6577998399734497\n",
      "Epoch 45, CIFAR-10 Batch 1:  cost = 0.6318978071212769, accuracy = 0.6703998446464539\n",
      "Epoch 45, CIFAR-10 Batch 2:  cost = 0.3977815806865692, accuracy = 0.6713998913764954\n",
      "Epoch 45, CIFAR-10 Batch 3:  cost = 0.36150360107421875, accuracy = 0.6711999177932739\n",
      "Epoch 45, CIFAR-10 Batch 4:  cost = 0.43621140718460083, accuracy = 0.6771999001502991\n",
      "Epoch 45, CIFAR-10 Batch 5:  cost = 0.4967392683029175, accuracy = 0.6683999300003052\n",
      "Epoch 46, CIFAR-10 Batch 1:  cost = 0.6149919629096985, accuracy = 0.6767998933792114\n",
      "Epoch 46, CIFAR-10 Batch 2:  cost = 0.4235500693321228, accuracy = 0.6713998913764954\n",
      "Epoch 46, CIFAR-10 Batch 3:  cost = 0.3561441898345947, accuracy = 0.6693999171257019\n",
      "Epoch 46, CIFAR-10 Batch 4:  cost = 0.4384439289569855, accuracy = 0.6749998927116394\n",
      "Epoch 46, CIFAR-10 Batch 5:  cost = 0.49725598096847534, accuracy = 0.6629998683929443\n",
      "Epoch 47, CIFAR-10 Batch 1:  cost = 0.6273301839828491, accuracy = 0.6657999157905579\n",
      "Epoch 47, CIFAR-10 Batch 2:  cost = 0.40290263295173645, accuracy = 0.6689999103546143\n",
      "Epoch 47, CIFAR-10 Batch 3:  cost = 0.38249140977859497, accuracy = 0.668199896812439\n",
      "Epoch 47, CIFAR-10 Batch 4:  cost = 0.4138309359550476, accuracy = 0.6689999103546143\n",
      "Epoch 47, CIFAR-10 Batch 5:  cost = 0.5002013444900513, accuracy = 0.6649998426437378\n",
      "Epoch 48, CIFAR-10 Batch 1:  cost = 0.5792932510375977, accuracy = 0.6759998798370361\n",
      "Epoch 48, CIFAR-10 Batch 2:  cost = 0.3777391016483307, accuracy = 0.6689999103546143\n",
      "Epoch 48, CIFAR-10 Batch 3:  cost = 0.3580173850059509, accuracy = 0.6749998927116394\n",
      "Epoch 48, CIFAR-10 Batch 4:  cost = 0.44255685806274414, accuracy = 0.6705998778343201\n",
      "Epoch 48, CIFAR-10 Batch 5:  cost = 0.49095553159713745, accuracy = 0.6679999232292175\n",
      "Epoch 49, CIFAR-10 Batch 1:  cost = 0.597832441329956, accuracy = 0.6705998778343201\n",
      "Epoch 49, CIFAR-10 Batch 2:  cost = 0.3827701807022095, accuracy = 0.669999897480011\n",
      "Epoch 49, CIFAR-10 Batch 3:  cost = 0.35204410552978516, accuracy = 0.6773998737335205\n",
      "Epoch 49, CIFAR-10 Batch 4:  cost = 0.4407031536102295, accuracy = 0.6745999455451965\n",
      "Epoch 49, CIFAR-10 Batch 5:  cost = 0.49292317032814026, accuracy = 0.6639998555183411\n",
      "Epoch 50, CIFAR-10 Batch 1:  cost = 0.614018976688385, accuracy = 0.6679999232292175\n",
      "Epoch 50, CIFAR-10 Batch 2:  cost = 0.38515764474868774, accuracy = 0.6689998507499695\n",
      "Epoch 50, CIFAR-10 Batch 3:  cost = 0.3443982005119324, accuracy = 0.6757999658584595\n",
      "Epoch 50, CIFAR-10 Batch 4:  cost = 0.4537125825881958, accuracy = 0.6721998453140259\n",
      "Epoch 50, CIFAR-10 Batch 5:  cost = 0.4636712670326233, accuracy = 0.6665998697280884\n",
      "Epoch 51, CIFAR-10 Batch 1:  cost = 0.5715871453285217, accuracy = 0.669999897480011\n",
      "Epoch 51, CIFAR-10 Batch 2:  cost = 0.3888648450374603, accuracy = 0.6695998907089233\n",
      "Epoch 51, CIFAR-10 Batch 3:  cost = 0.3582514524459839, accuracy = 0.6703999042510986\n",
      "Epoch 51, CIFAR-10 Batch 4:  cost = 0.42719370126724243, accuracy = 0.6737998723983765\n",
      "Epoch 51, CIFAR-10 Batch 5:  cost = 0.41672468185424805, accuracy = 0.6667998433113098\n",
      "Epoch 52, CIFAR-10 Batch 1:  cost = 0.5947644114494324, accuracy = 0.6759998798370361\n",
      "Epoch 52, CIFAR-10 Batch 2:  cost = 0.3815145492553711, accuracy = 0.6707999110221863\n",
      "Epoch 52, CIFAR-10 Batch 3:  cost = 0.3279174268245697, accuracy = 0.6761998534202576\n",
      "Epoch 52, CIFAR-10 Batch 4:  cost = 0.41822588443756104, accuracy = 0.6733998656272888\n",
      "Epoch 52, CIFAR-10 Batch 5:  cost = 0.458859384059906, accuracy = 0.6625998616218567\n",
      "Epoch 53, CIFAR-10 Batch 1:  cost = 0.5387933254241943, accuracy = 0.6721999049186707\n",
      "Epoch 53, CIFAR-10 Batch 2:  cost = 0.38375306129455566, accuracy = 0.6689998507499695\n",
      "Epoch 53, CIFAR-10 Batch 3:  cost = 0.3121079206466675, accuracy = 0.6761999130249023\n",
      "Epoch 53, CIFAR-10 Batch 4:  cost = 0.43899044394493103, accuracy = 0.669999897480011\n",
      "Epoch 53, CIFAR-10 Batch 5:  cost = 0.4522925317287445, accuracy = 0.6653999090194702\n",
      "Epoch 54, CIFAR-10 Batch 1:  cost = 0.5261220932006836, accuracy = 0.6777998805046082\n",
      "Epoch 54, CIFAR-10 Batch 2:  cost = 0.36191242933273315, accuracy = 0.6721998453140259\n",
      "Epoch 54, CIFAR-10 Batch 3:  cost = 0.3289716839790344, accuracy = 0.6751998662948608\n",
      "Epoch 54, CIFAR-10 Batch 4:  cost = 0.42638081312179565, accuracy = 0.6751998662948608\n",
      "Epoch 54, CIFAR-10 Batch 5:  cost = 0.4567256271839142, accuracy = 0.6683998703956604\n",
      "Epoch 55, CIFAR-10 Batch 1:  cost = 0.5206047892570496, accuracy = 0.671799898147583\n",
      "Epoch 55, CIFAR-10 Batch 2:  cost = 0.3682248890399933, accuracy = 0.6729998588562012\n",
      "Epoch 55, CIFAR-10 Batch 3:  cost = 0.3166133761405945, accuracy = 0.6805998682975769\n",
      "Epoch 55, CIFAR-10 Batch 4:  cost = 0.44508567452430725, accuracy = 0.672999918460846\n",
      "Epoch 55, CIFAR-10 Batch 5:  cost = 0.4391002655029297, accuracy = 0.6671999096870422\n",
      "Epoch 56, CIFAR-10 Batch 1:  cost = 0.5094988942146301, accuracy = 0.6719998717308044\n",
      "Epoch 56, CIFAR-10 Batch 2:  cost = 0.35479044914245605, accuracy = 0.6727999448776245\n",
      "Epoch 56, CIFAR-10 Batch 3:  cost = 0.2995645999908447, accuracy = 0.6753998398780823\n",
      "Epoch 56, CIFAR-10 Batch 4:  cost = 0.4488690495491028, accuracy = 0.6725998520851135\n",
      "Epoch 56, CIFAR-10 Batch 5:  cost = 0.45442962646484375, accuracy = 0.668199896812439\n",
      "Epoch 57, CIFAR-10 Batch 1:  cost = 0.5686289072036743, accuracy = 0.6721998453140259\n",
      "Epoch 57, CIFAR-10 Batch 2:  cost = 0.3654164671897888, accuracy = 0.6791998147964478\n",
      "Epoch 57, CIFAR-10 Batch 3:  cost = 0.3036414384841919, accuracy = 0.6741998791694641\n",
      "Epoch 57, CIFAR-10 Batch 4:  cost = 0.4018420875072479, accuracy = 0.6721999049186707\n",
      "Epoch 57, CIFAR-10 Batch 5:  cost = 0.4528231620788574, accuracy = 0.6677998900413513\n",
      "Epoch 58, CIFAR-10 Batch 1:  cost = 0.5273915529251099, accuracy = 0.6775999069213867\n",
      "Epoch 58, CIFAR-10 Batch 2:  cost = 0.3525409400463104, accuracy = 0.6769998669624329\n",
      "Epoch 58, CIFAR-10 Batch 3:  cost = 0.28028014302253723, accuracy = 0.6775998473167419\n",
      "Epoch 58, CIFAR-10 Batch 4:  cost = 0.4256823658943176, accuracy = 0.6749998927116394\n",
      "Epoch 58, CIFAR-10 Batch 5:  cost = 0.4058097004890442, accuracy = 0.6735998392105103\n",
      "Epoch 59, CIFAR-10 Batch 1:  cost = 0.5472509860992432, accuracy = 0.6801998615264893\n",
      "Epoch 59, CIFAR-10 Batch 2:  cost = 0.3648272752761841, accuracy = 0.6693998575210571\n",
      "Epoch 59, CIFAR-10 Batch 3:  cost = 0.29738953709602356, accuracy = 0.6765998601913452\n",
      "Epoch 59, CIFAR-10 Batch 4:  cost = 0.4081292450428009, accuracy = 0.6679998636245728\n",
      "Epoch 59, CIFAR-10 Batch 5:  cost = 0.4350687861442566, accuracy = 0.6701998710632324\n",
      "Epoch 60, CIFAR-10 Batch 1:  cost = 0.5041918158531189, accuracy = 0.6771998405456543\n",
      "Epoch 60, CIFAR-10 Batch 2:  cost = 0.35676199197769165, accuracy = 0.6717998385429382\n",
      "Epoch 60, CIFAR-10 Batch 3:  cost = 0.2956830561161041, accuracy = 0.6751998662948608\n",
      "Epoch 60, CIFAR-10 Batch 4:  cost = 0.40593811869621277, accuracy = 0.672999918460846\n",
      "Epoch 60, CIFAR-10 Batch 5:  cost = 0.4345356225967407, accuracy = 0.6663998961448669\n",
      "Epoch 61, CIFAR-10 Batch 1:  cost = 0.5230309963226318, accuracy = 0.6769999265670776\n",
      "Epoch 61, CIFAR-10 Batch 2:  cost = 0.3501012325286865, accuracy = 0.671799898147583\n",
      "Epoch 61, CIFAR-10 Batch 3:  cost = 0.26951801776885986, accuracy = 0.6807998418807983\n",
      "Epoch 61, CIFAR-10 Batch 4:  cost = 0.39054226875305176, accuracy = 0.6759999394416809\n",
      "Epoch 61, CIFAR-10 Batch 5:  cost = 0.4081783890724182, accuracy = 0.674599826335907\n",
      "Epoch 62, CIFAR-10 Batch 1:  cost = 0.5399697422981262, accuracy = 0.6675998568534851\n",
      "Epoch 62, CIFAR-10 Batch 2:  cost = 0.35251808166503906, accuracy = 0.6765998601913452\n",
      "Epoch 62, CIFAR-10 Batch 3:  cost = 0.2948013246059418, accuracy = 0.6759998798370361\n",
      "Epoch 62, CIFAR-10 Batch 4:  cost = 0.34776943922042847, accuracy = 0.6747998595237732\n",
      "Epoch 62, CIFAR-10 Batch 5:  cost = 0.4132268726825714, accuracy = 0.6711999177932739\n",
      "Epoch 63, CIFAR-10 Batch 1:  cost = 0.5276193618774414, accuracy = 0.6711998581886292\n",
      "Epoch 63, CIFAR-10 Batch 2:  cost = 0.3591052293777466, accuracy = 0.6739999055862427\n",
      "Epoch 63, CIFAR-10 Batch 3:  cost = 0.29711195826530457, accuracy = 0.671799898147583\n",
      "Epoch 63, CIFAR-10 Batch 4:  cost = 0.3890250325202942, accuracy = 0.669999897480011\n",
      "Epoch 63, CIFAR-10 Batch 5:  cost = 0.40165746212005615, accuracy = 0.6769998669624329\n",
      "Epoch 64, CIFAR-10 Batch 1:  cost = 0.5378211140632629, accuracy = 0.6735998392105103\n",
      "Epoch 64, CIFAR-10 Batch 2:  cost = 0.3312540054321289, accuracy = 0.6733998656272888\n",
      "Epoch 64, CIFAR-10 Batch 3:  cost = 0.2950063645839691, accuracy = 0.6769998073577881\n",
      "Epoch 64, CIFAR-10 Batch 4:  cost = 0.3604188561439514, accuracy = 0.6763998866081238\n",
      "Epoch 64, CIFAR-10 Batch 5:  cost = 0.4036647081375122, accuracy = 0.6765998601913452\n",
      "Epoch 65, CIFAR-10 Batch 1:  cost = 0.5269423127174377, accuracy = 0.6709998846054077\n",
      "Epoch 65, CIFAR-10 Batch 2:  cost = 0.34537839889526367, accuracy = 0.6715998649597168\n",
      "Epoch 65, CIFAR-10 Batch 3:  cost = 0.285193532705307, accuracy = 0.6737998723983765\n",
      "Epoch 65, CIFAR-10 Batch 4:  cost = 0.3667387366294861, accuracy = 0.679399847984314\n",
      "Epoch 65, CIFAR-10 Batch 5:  cost = 0.3853026032447815, accuracy = 0.6753998398780823\n",
      "Epoch 66, CIFAR-10 Batch 1:  cost = 0.5700621604919434, accuracy = 0.6713998317718506\n",
      "Epoch 66, CIFAR-10 Batch 2:  cost = 0.3249376118183136, accuracy = 0.6773998737335205\n",
      "Epoch 66, CIFAR-10 Batch 3:  cost = 0.2713087499141693, accuracy = 0.681399941444397\n",
      "Epoch 66, CIFAR-10 Batch 4:  cost = 0.3635750412940979, accuracy = 0.6765998601913452\n",
      "Epoch 66, CIFAR-10 Batch 5:  cost = 0.37582260370254517, accuracy = 0.6729998588562012\n",
      "Epoch 67, CIFAR-10 Batch 1:  cost = 0.4874840974807739, accuracy = 0.6681998372077942\n",
      "Epoch 67, CIFAR-10 Batch 2:  cost = 0.3242369592189789, accuracy = 0.6771999001502991\n",
      "Epoch 67, CIFAR-10 Batch 3:  cost = 0.2887447476387024, accuracy = 0.6795998811721802\n",
      "Epoch 67, CIFAR-10 Batch 4:  cost = 0.34769633412361145, accuracy = 0.6767998337745667\n",
      "Epoch 67, CIFAR-10 Batch 5:  cost = 0.40161341428756714, accuracy = 0.6709998846054077\n",
      "Epoch 68, CIFAR-10 Batch 1:  cost = 0.5116444230079651, accuracy = 0.6697998642921448\n",
      "Epoch 68, CIFAR-10 Batch 2:  cost = 0.3174295723438263, accuracy = 0.6739999055862427\n",
      "Epoch 68, CIFAR-10 Batch 3:  cost = 0.26446962356567383, accuracy = 0.6765998601913452\n",
      "Epoch 68, CIFAR-10 Batch 4:  cost = 0.3573211133480072, accuracy = 0.6809999346733093\n",
      "Epoch 68, CIFAR-10 Batch 5:  cost = 0.39915651082992554, accuracy = 0.6725998520851135\n",
      "Epoch 69, CIFAR-10 Batch 1:  cost = 0.48576027154922485, accuracy = 0.6753998398780823\n",
      "Epoch 69, CIFAR-10 Batch 2:  cost = 0.36809593439102173, accuracy = 0.6693998575210571\n",
      "Epoch 69, CIFAR-10 Batch 3:  cost = 0.2597273886203766, accuracy = 0.6743998527526855\n",
      "Epoch 69, CIFAR-10 Batch 4:  cost = 0.3749200105667114, accuracy = 0.6737998723983765\n",
      "Epoch 69, CIFAR-10 Batch 5:  cost = 0.396742045879364, accuracy = 0.6775998473167419\n",
      "Epoch 70, CIFAR-10 Batch 1:  cost = 0.4994044601917267, accuracy = 0.6739999055862427\n",
      "Epoch 70, CIFAR-10 Batch 2:  cost = 0.31889164447784424, accuracy = 0.678399920463562\n",
      "Epoch 70, CIFAR-10 Batch 3:  cost = 0.25045767426490784, accuracy = 0.6817998886108398\n",
      "Epoch 70, CIFAR-10 Batch 4:  cost = 0.3452810049057007, accuracy = 0.6769999265670776\n",
      "Epoch 70, CIFAR-10 Batch 5:  cost = 0.39255380630493164, accuracy = 0.6741998791694641\n",
      "Epoch 71, CIFAR-10 Batch 1:  cost = 0.5071647763252258, accuracy = 0.6763999462127686\n",
      "Epoch 71, CIFAR-10 Batch 2:  cost = 0.3315773606300354, accuracy = 0.6757999062538147\n",
      "Epoch 71, CIFAR-10 Batch 3:  cost = 0.24022528529167175, accuracy = 0.679399847984314\n",
      "Epoch 71, CIFAR-10 Batch 4:  cost = 0.32845860719680786, accuracy = 0.6767998933792114\n",
      "Epoch 71, CIFAR-10 Batch 5:  cost = 0.3886615037918091, accuracy = 0.6729998588562012\n",
      "Epoch 72, CIFAR-10 Batch 1:  cost = 0.47087836265563965, accuracy = 0.6729998588562012\n",
      "Epoch 72, CIFAR-10 Batch 2:  cost = 0.3239671587944031, accuracy = 0.6713998913764954\n",
      "Epoch 72, CIFAR-10 Batch 3:  cost = 0.2586682438850403, accuracy = 0.6807998418807983\n",
      "Epoch 72, CIFAR-10 Batch 4:  cost = 0.3864424526691437, accuracy = 0.6745999455451965\n",
      "Epoch 72, CIFAR-10 Batch 5:  cost = 0.38241320848464966, accuracy = 0.6797999143600464\n",
      "Epoch 73, CIFAR-10 Batch 1:  cost = 0.5003982782363892, accuracy = 0.6825999021530151\n",
      "Epoch 73, CIFAR-10 Batch 2:  cost = 0.3098931908607483, accuracy = 0.6751998662948608\n",
      "Epoch 73, CIFAR-10 Batch 3:  cost = 0.24272555112838745, accuracy = 0.6811999082565308\n",
      "Epoch 73, CIFAR-10 Batch 4:  cost = 0.3418959975242615, accuracy = 0.6769999265670776\n",
      "Epoch 73, CIFAR-10 Batch 5:  cost = 0.3874688744544983, accuracy = 0.6737998723983765\n",
      "Epoch 74, CIFAR-10 Batch 1:  cost = 0.4578056335449219, accuracy = 0.6749997735023499\n",
      "Epoch 74, CIFAR-10 Batch 2:  cost = 0.3172682523727417, accuracy = 0.6767998337745667\n",
      "Epoch 74, CIFAR-10 Batch 3:  cost = 0.2424692064523697, accuracy = 0.6767999529838562\n",
      "Epoch 74, CIFAR-10 Batch 4:  cost = 0.35893532633781433, accuracy = 0.6757999062538147\n",
      "Epoch 74, CIFAR-10 Batch 5:  cost = 0.3696647882461548, accuracy = 0.6761999130249023\n",
      "Epoch 75, CIFAR-10 Batch 1:  cost = 0.48738303780555725, accuracy = 0.675399899482727\n",
      "Epoch 75, CIFAR-10 Batch 2:  cost = 0.32620859146118164, accuracy = 0.6759998798370361\n",
      "Epoch 75, CIFAR-10 Batch 3:  cost = 0.2361931949853897, accuracy = 0.6775997877120972\n",
      "Epoch 75, CIFAR-10 Batch 4:  cost = 0.3763299584388733, accuracy = 0.6737999320030212\n",
      "Epoch 75, CIFAR-10 Batch 5:  cost = 0.3428460359573364, accuracy = 0.6783998608589172\n",
      "Epoch 76, CIFAR-10 Batch 1:  cost = 0.46356385946273804, accuracy = 0.6725998520851135\n",
      "Epoch 76, CIFAR-10 Batch 2:  cost = 0.333955317735672, accuracy = 0.6751999258995056\n",
      "Epoch 76, CIFAR-10 Batch 3:  cost = 0.22479484975337982, accuracy = 0.674799919128418\n",
      "Epoch 76, CIFAR-10 Batch 4:  cost = 0.35088643431663513, accuracy = 0.6737998723983765\n",
      "Epoch 76, CIFAR-10 Batch 5:  cost = 0.3874814212322235, accuracy = 0.6673998832702637\n",
      "Epoch 77, CIFAR-10 Batch 1:  cost = 0.45494186878204346, accuracy = 0.6737998723983765\n",
      "Epoch 77, CIFAR-10 Batch 2:  cost = 0.317139208316803, accuracy = 0.6751998662948608\n",
      "Epoch 77, CIFAR-10 Batch 3:  cost = 0.23289865255355835, accuracy = 0.6739999055862427\n",
      "Epoch 77, CIFAR-10 Batch 4:  cost = 0.34402331709861755, accuracy = 0.6765998601913452\n",
      "Epoch 77, CIFAR-10 Batch 5:  cost = 0.3764701783657074, accuracy = 0.6763998866081238\n",
      "Epoch 78, CIFAR-10 Batch 1:  cost = 0.5059175491333008, accuracy = 0.6741999387741089\n",
      "Epoch 78, CIFAR-10 Batch 2:  cost = 0.31846144795417786, accuracy = 0.6785998940467834\n",
      "Epoch 78, CIFAR-10 Batch 3:  cost = 0.2506343722343445, accuracy = 0.6783998608589172\n",
      "Epoch 78, CIFAR-10 Batch 4:  cost = 0.33245402574539185, accuracy = 0.6695998907089233\n",
      "Epoch 78, CIFAR-10 Batch 5:  cost = 0.3713376522064209, accuracy = 0.6723998785018921\n",
      "Epoch 79, CIFAR-10 Batch 1:  cost = 0.45493945479393005, accuracy = 0.6729997992515564\n",
      "Epoch 79, CIFAR-10 Batch 2:  cost = 0.3069196343421936, accuracy = 0.6757998466491699\n",
      "Epoch 79, CIFAR-10 Batch 3:  cost = 0.2698589563369751, accuracy = 0.6717998385429382\n",
      "Epoch 79, CIFAR-10 Batch 4:  cost = 0.359874427318573, accuracy = 0.6703999042510986\n",
      "Epoch 79, CIFAR-10 Batch 5:  cost = 0.3561546206474304, accuracy = 0.6775999069213867\n",
      "Epoch 80, CIFAR-10 Batch 1:  cost = 0.4502318501472473, accuracy = 0.6637999415397644\n",
      "Epoch 80, CIFAR-10 Batch 2:  cost = 0.32337796688079834, accuracy = 0.674599826335907\n",
      "Epoch 80, CIFAR-10 Batch 3:  cost = 0.2277410328388214, accuracy = 0.6747997999191284\n",
      "Epoch 80, CIFAR-10 Batch 4:  cost = 0.322801411151886, accuracy = 0.6779997944831848\n",
      "Epoch 80, CIFAR-10 Batch 5:  cost = 0.3564114272594452, accuracy = 0.6787998676300049\n",
      "Epoch 81, CIFAR-10 Batch 1:  cost = 0.4454421103000641, accuracy = 0.6705998778343201\n",
      "Epoch 81, CIFAR-10 Batch 2:  cost = 0.31136226654052734, accuracy = 0.6755999326705933\n",
      "Epoch 81, CIFAR-10 Batch 3:  cost = 0.23800009489059448, accuracy = 0.6809998750686646\n",
      "Epoch 81, CIFAR-10 Batch 4:  cost = 0.30100157856941223, accuracy = 0.6781998872756958\n",
      "Epoch 81, CIFAR-10 Batch 5:  cost = 0.33264192938804626, accuracy = 0.6777998208999634\n",
      "Epoch 82, CIFAR-10 Batch 1:  cost = 0.48855504393577576, accuracy = 0.6693998575210571\n",
      "Epoch 82, CIFAR-10 Batch 2:  cost = 0.29873090982437134, accuracy = 0.6763998866081238\n",
      "Epoch 82, CIFAR-10 Batch 3:  cost = 0.22299955785274506, accuracy = 0.6769998669624329\n",
      "Epoch 82, CIFAR-10 Batch 4:  cost = 0.33484265208244324, accuracy = 0.6777998208999634\n",
      "Epoch 82, CIFAR-10 Batch 5:  cost = 0.35962116718292236, accuracy = 0.6723998785018921\n",
      "Epoch 83, CIFAR-10 Batch 1:  cost = 0.43626144528388977, accuracy = 0.6773998737335205\n",
      "Epoch 83, CIFAR-10 Batch 2:  cost = 0.29430797696113586, accuracy = 0.6801998615264893\n",
      "Epoch 83, CIFAR-10 Batch 3:  cost = 0.22997277975082397, accuracy = 0.6749998927116394\n",
      "Epoch 83, CIFAR-10 Batch 4:  cost = 0.32791998982429504, accuracy = 0.6719998121261597\n",
      "Epoch 83, CIFAR-10 Batch 5:  cost = 0.3495943546295166, accuracy = 0.6801998615264893\n",
      "Epoch 84, CIFAR-10 Batch 1:  cost = 0.45347264409065247, accuracy = 0.6785998344421387\n",
      "Epoch 84, CIFAR-10 Batch 2:  cost = 0.32180356979370117, accuracy = 0.6803998947143555\n",
      "Epoch 84, CIFAR-10 Batch 3:  cost = 0.22315043210983276, accuracy = 0.6759998798370361\n",
      "Epoch 84, CIFAR-10 Batch 4:  cost = 0.32024678587913513, accuracy = 0.6737998723983765\n",
      "Epoch 84, CIFAR-10 Batch 5:  cost = 0.3378528654575348, accuracy = 0.6807999014854431\n",
      "Epoch 85, CIFAR-10 Batch 1:  cost = 0.49657365679740906, accuracy = 0.6787998676300049\n",
      "Epoch 85, CIFAR-10 Batch 2:  cost = 0.34103062748908997, accuracy = 0.6713998317718506\n",
      "Epoch 85, CIFAR-10 Batch 3:  cost = 0.2350689172744751, accuracy = 0.6653999090194702\n",
      "Epoch 85, CIFAR-10 Batch 4:  cost = 0.30008864402770996, accuracy = 0.6723998188972473\n",
      "Epoch 85, CIFAR-10 Batch 5:  cost = 0.3265712857246399, accuracy = 0.6779998540878296\n",
      "Epoch 86, CIFAR-10 Batch 1:  cost = 0.4393370449542999, accuracy = 0.6713998913764954\n",
      "Epoch 86, CIFAR-10 Batch 2:  cost = 0.33320894837379456, accuracy = 0.6763998866081238\n",
      "Epoch 86, CIFAR-10 Batch 3:  cost = 0.2470252811908722, accuracy = 0.6807999014854431\n",
      "Epoch 86, CIFAR-10 Batch 4:  cost = 0.29257336258888245, accuracy = 0.6763998866081238\n",
      "Epoch 86, CIFAR-10 Batch 5:  cost = 0.3288283348083496, accuracy = 0.681199848651886\n",
      "Epoch 87, CIFAR-10 Batch 1:  cost = 0.4360463321208954, accuracy = 0.6705998778343201\n",
      "Epoch 87, CIFAR-10 Batch 2:  cost = 0.30901750922203064, accuracy = 0.6761999130249023\n",
      "Epoch 87, CIFAR-10 Batch 3:  cost = 0.22369150817394257, accuracy = 0.6683998107910156\n",
      "Epoch 87, CIFAR-10 Batch 4:  cost = 0.31207796931266785, accuracy = 0.6683998703956604\n",
      "Epoch 87, CIFAR-10 Batch 5:  cost = 0.3421039581298828, accuracy = 0.6743999123573303\n",
      "Epoch 88, CIFAR-10 Batch 1:  cost = 0.4368246793746948, accuracy = 0.6725999116897583\n",
      "Epoch 88, CIFAR-10 Batch 2:  cost = 0.2959636449813843, accuracy = 0.6823998689651489\n",
      "Epoch 88, CIFAR-10 Batch 3:  cost = 0.21334068477153778, accuracy = 0.672799825668335\n",
      "Epoch 88, CIFAR-10 Batch 4:  cost = 0.2971086800098419, accuracy = 0.6721998453140259\n",
      "Epoch 88, CIFAR-10 Batch 5:  cost = 0.31671980023384094, accuracy = 0.6817998290061951\n",
      "Epoch 89, CIFAR-10 Batch 1:  cost = 0.49044257402420044, accuracy = 0.6779998540878296\n",
      "Epoch 89, CIFAR-10 Batch 2:  cost = 0.30773308873176575, accuracy = 0.6739999055862427\n",
      "Epoch 89, CIFAR-10 Batch 3:  cost = 0.20022056996822357, accuracy = 0.6767998933792114\n",
      "Epoch 89, CIFAR-10 Batch 4:  cost = 0.3331858217716217, accuracy = 0.6729998588562012\n",
      "Epoch 89, CIFAR-10 Batch 5:  cost = 0.3157934844493866, accuracy = 0.6815998554229736\n",
      "Epoch 90, CIFAR-10 Batch 1:  cost = 0.45164167881011963, accuracy = 0.6749998331069946\n",
      "Epoch 90, CIFAR-10 Batch 2:  cost = 0.2979629635810852, accuracy = 0.6765998601913452\n",
      "Epoch 90, CIFAR-10 Batch 3:  cost = 0.22817787528038025, accuracy = 0.6703999042510986\n",
      "Epoch 90, CIFAR-10 Batch 4:  cost = 0.30499276518821716, accuracy = 0.6691998839378357\n",
      "Epoch 90, CIFAR-10 Batch 5:  cost = 0.3260403275489807, accuracy = 0.6817998290061951\n",
      "Epoch 91, CIFAR-10 Batch 1:  cost = 0.43146637082099915, accuracy = 0.6755999326705933\n",
      "Epoch 91, CIFAR-10 Batch 2:  cost = 0.31694942712783813, accuracy = 0.6741998791694641\n",
      "Epoch 91, CIFAR-10 Batch 3:  cost = 0.21441346406936646, accuracy = 0.6739998459815979\n",
      "Epoch 91, CIFAR-10 Batch 4:  cost = 0.3392041325569153, accuracy = 0.6721998453140259\n",
      "Epoch 91, CIFAR-10 Batch 5:  cost = 0.3280034065246582, accuracy = 0.6735998392105103\n",
      "Epoch 92, CIFAR-10 Batch 1:  cost = 0.4330075979232788, accuracy = 0.6741999387741089\n",
      "Epoch 92, CIFAR-10 Batch 2:  cost = 0.33005452156066895, accuracy = 0.673599898815155\n",
      "Epoch 92, CIFAR-10 Batch 3:  cost = 0.2105284333229065, accuracy = 0.6719998717308044\n",
      "Epoch 92, CIFAR-10 Batch 4:  cost = 0.3399960994720459, accuracy = 0.6731998920440674\n",
      "Epoch 92, CIFAR-10 Batch 5:  cost = 0.32737672328948975, accuracy = 0.6719998717308044\n",
      "Epoch 93, CIFAR-10 Batch 1:  cost = 0.45657020807266235, accuracy = 0.6747997999191284\n",
      "Epoch 93, CIFAR-10 Batch 2:  cost = 0.327334463596344, accuracy = 0.6773998737335205\n",
      "Epoch 93, CIFAR-10 Batch 3:  cost = 0.21658290922641754, accuracy = 0.6727999448776245\n",
      "Epoch 93, CIFAR-10 Batch 4:  cost = 0.30072635412216187, accuracy = 0.6739998459815979\n",
      "Epoch 93, CIFAR-10 Batch 5:  cost = 0.3399348258972168, accuracy = 0.6717998385429382\n",
      "Epoch 94, CIFAR-10 Batch 1:  cost = 0.45331501960754395, accuracy = 0.6663998961448669\n",
      "Epoch 94, CIFAR-10 Batch 2:  cost = 0.31079983711242676, accuracy = 0.6781998872756958\n",
      "Epoch 94, CIFAR-10 Batch 3:  cost = 0.18218441307544708, accuracy = 0.6743999719619751\n",
      "Epoch 94, CIFAR-10 Batch 4:  cost = 0.2885825037956238, accuracy = 0.672799825668335\n",
      "Epoch 94, CIFAR-10 Batch 5:  cost = 0.3285583257675171, accuracy = 0.6743998527526855\n",
      "Epoch 95, CIFAR-10 Batch 1:  cost = 0.44080767035484314, accuracy = 0.6691998839378357\n",
      "Epoch 95, CIFAR-10 Batch 2:  cost = 0.2993924617767334, accuracy = 0.6779998540878296\n",
      "Epoch 95, CIFAR-10 Batch 3:  cost = 0.19454991817474365, accuracy = 0.6759998798370361\n",
      "Epoch 95, CIFAR-10 Batch 4:  cost = 0.2829452157020569, accuracy = 0.6715999245643616\n",
      "Epoch 95, CIFAR-10 Batch 5:  cost = 0.32977065443992615, accuracy = 0.682999849319458\n",
      "Epoch 96, CIFAR-10 Batch 1:  cost = 0.43690866231918335, accuracy = 0.6715998649597168\n",
      "Epoch 96, CIFAR-10 Batch 2:  cost = 0.30593472719192505, accuracy = 0.6749998331069946\n",
      "Epoch 96, CIFAR-10 Batch 3:  cost = 0.18026147782802582, accuracy = 0.6801998615264893\n",
      "Epoch 96, CIFAR-10 Batch 4:  cost = 0.29384681582450867, accuracy = 0.6681998372077942\n",
      "Epoch 96, CIFAR-10 Batch 5:  cost = 0.3012649416923523, accuracy = 0.6751999258995056\n",
      "Epoch 97, CIFAR-10 Batch 1:  cost = 0.42432457208633423, accuracy = 0.6635998487472534\n",
      "Epoch 97, CIFAR-10 Batch 2:  cost = 0.31583473086357117, accuracy = 0.6801998019218445\n",
      "Epoch 97, CIFAR-10 Batch 3:  cost = 0.1826486587524414, accuracy = 0.6741999387741089\n",
      "Epoch 97, CIFAR-10 Batch 4:  cost = 0.2823675572872162, accuracy = 0.6677998900413513\n",
      "Epoch 97, CIFAR-10 Batch 5:  cost = 0.3105272352695465, accuracy = 0.6781998872756958\n",
      "Epoch 98, CIFAR-10 Batch 1:  cost = 0.39934754371643066, accuracy = 0.6631999015808105\n",
      "Epoch 98, CIFAR-10 Batch 2:  cost = 0.31952011585235596, accuracy = 0.6759998798370361\n",
      "Epoch 98, CIFAR-10 Batch 3:  cost = 0.182207390666008, accuracy = 0.6771998405456543\n",
      "Epoch 98, CIFAR-10 Batch 4:  cost = 0.27564868330955505, accuracy = 0.6695998907089233\n",
      "Epoch 98, CIFAR-10 Batch 5:  cost = 0.29494601488113403, accuracy = 0.6805998682975769\n",
      "Epoch 99, CIFAR-10 Batch 1:  cost = 0.425307035446167, accuracy = 0.6731998920440674\n",
      "Epoch 99, CIFAR-10 Batch 2:  cost = 0.3314967453479767, accuracy = 0.6767998933792114\n",
      "Epoch 99, CIFAR-10 Batch 3:  cost = 0.18571458756923676, accuracy = 0.6817997694015503\n",
      "Epoch 99, CIFAR-10 Batch 4:  cost = 0.25922781229019165, accuracy = 0.6777998208999634\n",
      "Epoch 99, CIFAR-10 Batch 5:  cost = 0.2979029715061188, accuracy = 0.6789999008178711\n",
      "Epoch 100, CIFAR-10 Batch 1:  cost = 0.4116710424423218, accuracy = 0.6775999069213867\n",
      "Epoch 100, CIFAR-10 Batch 2:  cost = 0.27977627515792847, accuracy = 0.6777999401092529\n",
      "Epoch 100, CIFAR-10 Batch 3:  cost = 0.18598753213882446, accuracy = 0.6769998669624329\n",
      "Epoch 100, CIFAR-10 Batch 4:  cost = 0.29056259989738464, accuracy = 0.6697998642921448\n",
      "Epoch 100, CIFAR-10 Batch 5:  cost = 0.3007623851299286, accuracy = 0.6721999049186707\n"
     ]
    }
   ],
   "source": [
    "\"\"\"\n",
    "DON'T MODIFY ANYTHING IN THIS CELL\n",
    "\"\"\"\n",
    "save_model_path = './image_classification'\n",
    "\n",
    "print('Training...')\n",
    "with tf.Session() as sess:\n",
    "    # Initializing the variables\n",
    "    sess.run(tf.global_variables_initializer())\n",
    "    \n",
    "    # Training cycle\n",
    "    for epoch in range(epochs):\n",
    "        # Loop over all batches\n",
    "        n_batches = 5\n",
    "        for batch_i in range(1, n_batches + 1):\n",
    "            for batch_features, batch_labels in helper.load_preprocess_training_batch(batch_i, batch_size):\n",
    "                train_neural_network(sess, optimizer, keep_probability, batch_features, batch_labels)\n",
    "            print('Epoch {:>2}, CIFAR-10 Batch {}:  '.format(epoch + 1, batch_i), end='')\n",
    "            print_stats(sess, batch_features, batch_labels, cost, accuracy)\n",
    "            \n",
    "    # Save Model\n",
    "    saver = tf.train.Saver()\n",
    "    save_path = saver.save(sess, save_model_path)"
   ]
  },
  {
   "cell_type": "markdown",
   "metadata": {
    "deletable": true,
    "editable": true
   },
   "source": [
    "# Checkpoint\n",
    "The model has been saved to disk.\n",
    "## Test Model\n",
    "Test your model against the test dataset.  This will be your final accuracy. You should have an accuracy greater than 50%. If you don't, keep tweaking the model architecture and parameters."
   ]
  },
  {
   "cell_type": "code",
   "execution_count": 24,
   "metadata": {
    "collapsed": false,
    "deletable": true,
    "editable": true
   },
   "outputs": [
    {
     "name": "stdout",
     "output_type": "stream",
     "text": [
      "Testing Accuracy: 0.6748417721518988\n",
      "\n"
     ]
    },
    {
     "data": {
      "image/png": "[encoded data removed]",
      "text/plain": [
       "<matplotlib.figure.Figure at 0x7f6e85a53f28>"
      ]
     },
     "metadata": {
      "image/png": {
       "height": 319,
       "width": 355
      }
     },
     "output_type": "display_data"
    }
   ],
   "source": [
    "\"\"\"\n",
    "DON'T MODIFY ANYTHING IN THIS CELL\n",
    "\"\"\"\n",
    "%matplotlib inline\n",
    "%config InlineBackend.figure_format = 'retina'\n",
    "\n",
    "import tensorflow as tf\n",
    "import pickle\n",
    "import helper\n",
    "import random\n",
    "\n",
    "# Set batch size if not already set\n",
    "try:\n",
    "    if batch_size:\n",
    "        pass\n",
    "except NameError:\n",
    "    batch_size = 64\n",
    "\n",
    "save_model_path = './image_classification'\n",
    "n_samples = 4\n",
    "top_n_predictions = 3\n",
    "\n",
    "def test_model():\n",
    "    \"\"\"\n",
    "    Test the saved model against the test dataset\n",
    "    \"\"\"\n",
    "\n",
    "    test_features, test_labels = pickle.load(open('preprocess_training.p', mode='rb'))\n",
    "    loaded_graph = tf.Graph()\n",
    "\n",
    "    with tf.Session(graph=loaded_graph) as sess:\n",
    "        # Load model\n",
    "        loader = tf.train.import_meta_graph(save_model_path + '.meta')\n",
    "        loader.restore(sess, save_model_path)\n",
    "\n",
    "        # Get Tensors from loaded model\n",
    "        loaded_x = loaded_graph.get_tensor_by_name('x:0')\n",
    "        loaded_y = loaded_graph.get_tensor_by_name('y:0')\n",
    "        loaded_keep_prob = loaded_graph.get_tensor_by_name('keep_prob:0')\n",
    "        loaded_logits = loaded_graph.get_tensor_by_name('logits:0')\n",
    "        loaded_acc = loaded_graph.get_tensor_by_name('accuracy:0')\n",
    "        \n",
    "        # Get accuracy in batches for memory limitations\n",
    "        test_batch_acc_total = 0\n",
    "        test_batch_count = 0\n",
    "        \n",
    "        for train_feature_batch, train_label_batch in helper.batch_features_labels(test_features, test_labels, batch_size):\n",
    "            test_batch_acc_total += sess.run(\n",
    "                loaded_acc,\n",
    "                feed_dict={loaded_x: train_feature_batch, loaded_y: train_label_batch, loaded_keep_prob: 1.0})\n",
    "            test_batch_count += 1\n",
    "\n",
    "        print('Testing Accuracy: {}\\n'.format(test_batch_acc_total/test_batch_count))\n",
    "\n",
    "        # Print Random Samples\n",
    "        random_test_features, random_test_labels = tuple(zip(*random.sample(list(zip(test_features, test_labels)), n_samples)))\n",
    "        random_test_predictions = sess.run(\n",
    "            tf.nn.top_k(tf.nn.softmax(loaded_logits), top_n_predictions),\n",
    "            feed_dict={loaded_x: random_test_features, loaded_y: random_test_labels, loaded_keep_prob: 1.0})\n",
    "        helper.display_image_predictions(random_test_features, random_test_labels, random_test_predictions)\n",
    "\n",
    "\n",
    "test_model()"
   ]
  },
  {
   "cell_type": "markdown",
   "metadata": {
    "deletable": true,
    "editable": true
   },
   "source": [
    "## Why 50-70% Accuracy?\n",
    "You might be wondering why you can't get an accuracy any higher. First things first, 50% isn't bad for a simple CNN.  Pure guessing would get you 10% accuracy. However, you might notice people are getting scores [well above 70%](http://rodrigob.github.io/are_we_there_yet/build/classification_datasets_results.html#43494641522d3130).  That's because we haven't taught you all there is to know about neural networks. We still need to cover a few more techniques.\n",
    "## Submitting This Project\n",
    "When submitting this project, make sure to run all the cells before saving the notebook.  Save the notebook file as \"dlnd_image_classification.ipynb\" and save it as a HTML file under \"File\" -> \"Download as\".  Include the \"helper.py\" and \"problem_unittests.py\" files in your submission."
   ]
  },
  {
   "cell_type": "code",
   "execution_count": null,
   "metadata": {
    "collapsed": true,
    "deletable": true,
    "editable": true
   },
   "outputs": [],
   "source": []
  }
 ],
 "metadata": {
  "kernelspec": {
   "display_name": "Python 3",
   "language": "python",
   "name": "python3"
  },
  "language_info": {
   "codemirror_mode": {
    "name": "ipython",
    "version": 3
   },
   "file_extension": ".py",
   "mimetype": "text/x-python",
   "name": "python",
   "nbconvert_exporter": "python",
   "pygments_lexer": "ipython3",
   "version": "3.5.2"
  },
  "widgets": {
   "state": {},
   "version": "1.1.2"
  }
 },
 "nbformat": 4,
 "nbformat_minor": 0
}
